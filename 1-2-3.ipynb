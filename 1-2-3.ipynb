{
 "cells": [
  {
   "cell_type": "code",
   "execution_count": 1,
   "metadata": {},
   "outputs": [
    {
     "name": "stderr",
     "output_type": "stream",
     "text": [
      "[nltk_data] Downloading package averaged_perceptron_tagger to\n",
      "[nltk_data]     /Users/aarunku5/nltk_data...\n",
      "[nltk_data]   Package averaged_perceptron_tagger is already up-to-\n",
      "[nltk_data]       date!\n"
     ]
    }
   ],
   "source": [
    "import pandas as pd\n",
    "import numpy as np \n",
    "import json\n",
    "import csv\n",
    "\n",
    "\n",
    "import matplotlib.pyplot as plt\n",
    "import seaborn as sns\n",
    "\n",
    "from tqdm import tqdm_notebook as tqdm\n",
    "\n",
    "from nltk.corpus import stopwords\n",
    "from nltk.tokenize import word_tokenize\n",
    "from nltk.tokenize import sent_tokenize\n",
    "from nltk.stem import WordNetLemmatizer \n",
    "import nltk\n",
    "nltk.download('averaged_perceptron_tagger')\n",
    "\n",
    "import spacy\n",
    "import math\n",
    "\n",
    "import string\n",
    "import sys\n",
    "import random\n",
    "\n",
    "from collections import Counter\n",
    "from itertools import chain\n",
    "\n",
    "stop_words = set(stopwords.words('english'))\n",
    "lemmatizer = WordNetLemmatizer()"
   ]
  },
  {
   "cell_type": "code",
   "execution_count": 2,
   "metadata": {},
   "outputs": [
    {
     "data": {
      "application/vnd.jupyter.widget-view+json": {
       "model_id": "05ec030b9eb44bb89de3d5eed54a53ba",
       "version_major": 2,
       "version_minor": 0
      },
      "text/plain": [
       "HBox(children=(IntProgress(value=0, max=202), HTML(value='')))"
      ]
     },
     "metadata": {},
     "output_type": "display_data"
    },
    {
     "name": "stdout",
     "output_type": "stream",
     "text": [
      "\n"
     ]
    },
    {
     "data": {
      "application/vnd.jupyter.widget-view+json": {
       "model_id": "d453ea6cbe4f4e10a33c012e959b516f",
       "version_major": 2,
       "version_minor": 0
      },
      "text/plain": [
       "HBox(children=(IntProgress(value=0, max=101), HTML(value='')))"
      ]
     },
     "metadata": {},
     "output_type": "display_data"
    },
    {
     "name": "stdout",
     "output_type": "stream",
     "text": [
      "\n"
     ]
    },
    {
     "data": {
      "application/vnd.jupyter.widget-view+json": {
       "model_id": "181531ab4dd44508af12e1fd90a1cfc9",
       "version_major": 2,
       "version_minor": 0
      },
      "text/plain": [
       "HBox(children=(IntProgress(value=0, max=202), HTML(value='')))"
      ]
     },
     "metadata": {},
     "output_type": "display_data"
    },
    {
     "name": "stdout",
     "output_type": "stream",
     "text": [
      "\n"
     ]
    }
   ],
   "source": [
    "df_wino = pd.read_csv('./test_good_101_1.csv')\n",
    "nlp = spacy.load(\"en_trf_bertbaseuncased_lg\")\n",
    "words=pd.DataFrame()\n",
    "frames=[df_wino['sentence1'],df_wino['sentence2']]\n",
    "words['full'] = pd.concat(frames)\n",
    "words.reset_index(inplace = True) \n",
    "words['casewords'] = words['full'].str.lower()\n",
    "words['wsw'] = words['casewords'].apply(lambda x: ' '.join([word for word in x.split() if word not in (stop_words)]))\n",
    "words['nopunc'] = words['wsw'].str.replace(\"'\", \"\")\n",
    "words['nopunc'] = words['nopunc'].str.replace(\".\", \"\")\n",
    "words['nopunc'] = words['nopunc'].str.replace(\",\", \"\")\n",
    "w_tokenizer = nltk.tokenize.WhitespaceTokenizer()\n",
    "lemmatizer = nltk.stem.WordNetLemmatizer()\n",
    "def lemmatize_text(text):\n",
    "    return [lemmatizer.lemmatize(w) for w in w_tokenizer.tokenize(text)]\n",
    "words['text_lemmatized'] = words.nopunc.apply(lemmatize_text)\n",
    "words['final']=\"NaN\"\n",
    "def final(x):\n",
    "    makeitastring = ' '.join(map(str, x))\n",
    "    makeitastring=makeitastring.replace(\",\",\"\")\n",
    "    makeitastring=makeitastring.replace(\"'\",\"\")\n",
    "    makeitastring=makeitastring.replace(\"[\",\"\")\n",
    "    makeitastring=makeitastring.replace(\"]\",\"\")\n",
    "    return makeitastring\n",
    "for i in tqdm(range(len(words))):    \n",
    "    column=['text_lemmatized']\n",
    "    row=[i]\n",
    "    words.loc[i,'final']=final(words.loc[i,'text_lemmatized'])\n",
    "words['fullnopunc'] = words['full'].str.replace(\"'\", \"\")\n",
    "words['fullnopunc'] = words['fullnopunc'].str.replace(\".\", \"\")\n",
    "words['fullnopunc'] = words['fullnopunc'].str.replace(\",\", \"\")\n",
    "words['label']='NaN'\n",
    "for i in tqdm(range(len(df_wino))):\n",
    "    words.loc[i,'label']=df_wino.loc[i,'gold_label']\n",
    "    words.loc[(i+len(df_wino)),'label']=df_wino.loc[i,'gold_label']\n",
    "words.to_csv('./test_good_101_1_words.csv', index = False)\n",
    "e=pd.DataFrame(columns=['label','final','fullnopunc'])\n",
    "n=pd.DataFrame(columns=['label','final','fullnopunc'])\n",
    "c=pd.DataFrame(columns=['label','final','fullnopunc'])\n",
    "#split test labels\n",
    "for i in tqdm(range(len(words))):\n",
    "    l=words.loc[i,'label']\n",
    "    new_row={'label':words.loc[i,'label'],'final':words.loc[i,'final'],'fullnopunc':words.loc[i,'fullnopunc']}\n",
    "    if(l=='entailment'):\n",
    "        e=e.append(new_row, ignore_index=True)\n",
    "    elif(l=='neutral'):\n",
    "        n=n.append(new_row, ignore_index=True)\n",
    "    else:\n",
    "        c=c.append(new_row,ignore_index=True)\n",
    "e.to_csv('./test_good_101_1_wordse.csv', index = False)\n",
    "n.to_csv('./test_good_101_1_wordsn.csv', index = False)\n",
    "c.to_csv('./test_good_101_1_wordsc.csv', index = False)\n",
    "\n",
    "\n",
    "\n",
    "\n",
    "\n",
    "\n",
    "\n",
    "\n",
    "\n"
   ]
  },
  {
   "cell_type": "code",
   "execution_count": 3,
   "metadata": {},
   "outputs": [
    {
     "name": "stdout",
     "output_type": "stream",
     "text": [
      "48\n",
      "104\n",
      "50\n",
      "101\n",
      "202\n"
     ]
    }
   ],
   "source": [
    "print(len(e))\n",
    "print(len(n))\n",
    "print(len(c))\n",
    "print(len(df_wino))\n",
    "print(len(words))"
   ]
  },
  {
   "cell_type": "code",
   "execution_count": 4,
   "metadata": {},
   "outputs": [
    {
     "data": {
      "image/png": "[encoded data removed]",
      "text/plain": [
       "<Figure size 1152x576 with 1 Axes>"
      ]
     },
     "metadata": {
      "needs_background": "light"
     },
     "output_type": "display_data"
    },
    {
     "data": {
      "image/png": "[encoded data removed]",
      "text/plain": [
       "<Figure size 432x288 with 1 Axes>"
      ]
     },
     "metadata": {
      "needs_background": "light"
     },
     "output_type": "display_data"
    },
    {
     "name": "stdout",
     "output_type": "stream",
     "text": [
      "5.792079207920792\n",
      "6.634669655407301\n",
      "202\n",
      "188\n",
      "0.9306930693069307\n",
      "11.96692027334937\n"
     ]
    }
   ],
   "source": [
    "magwords=words.final.str.split(expand=True).stack().value_counts()\n",
    "t1g=magwords.size/len(df_wino)\n",
    "#--------------------------------------------------------------------\n",
    "g=[]\n",
    "for i in range(len(words)):\n",
    "    x=words.iloc[i]['fullnopunc']\n",
    "    g.append(len(x.split()))\n",
    "gstd=pd.Series(g).std()\n",
    "#--------------------------------------------------------------------\n",
    "z=[]\n",
    "for i in range(len(pd.Series(g))):\n",
    "    if(g[i]<3 or g[i]>23):\n",
    "        z.append(0)\n",
    "    elif(g[i]>5 and g[i]<13):\n",
    "        z.append(2)\n",
    "    else:\n",
    "        z.append(1)\n",
    "def col(z):\n",
    "    arr=[]\n",
    "    for i in range(len(z)):\n",
    "        if(z[i]==0):\n",
    "            arr.append('#f85c4d')\n",
    "        elif(z[i]==1):\n",
    "            arr.append('#f5bc5e')\n",
    "        else:\n",
    "            arr.append('#90ee90')\n",
    "    return arr\n",
    "fig, ax = plt.subplots(figsize=(16,8))\n",
    "ax.scatter(range(len(g)),pd.Series(g),c=col(z))\n",
    "ax.grid(color='grey', linestyle='-', linewidth=0.25, alpha=0.5)\n",
    "ax.spines['top'].set_visible(False)\n",
    "ax.spines['right'].set_visible(False)\n",
    "ax.set_xlabel('Sentence')\n",
    "ax.set_ylabel('Frequency')\n",
    "plt.show()\n",
    "plt.clf()\n",
    "gcount=Counter(g)\n",
    "gcount=pd.Series(gcount).sort_index()\n",
    "gcount=gcount/len(g)\n",
    "a=len(gcount)\n",
    "x = np.linspace(0,a-1, num=a)\n",
    "y = gcount\n",
    "x0 = 3\n",
    "x1 = 6\n",
    "x2 = 10\n",
    "x3 = 23\n",
    "plt.grid(color='grey', linestyle='-', linewidth=0.25, alpha=0.5)\n",
    "plt.plot(x[:x0+1], y[:x0+1],marker='.', markerfacecolor='blue', markersize=5,color=\"#f85c4d\")\n",
    "plt.plot(x[x0:x1+1], y[x0:x1+1],marker='.', markerfacecolor='blue', markersize=5,color=\"#f5bc5e\")\n",
    "plt.plot(x[x1:x2+1], y[x1:x2+1],marker='.', markerfacecolor='blue', markersize=5,color=\"#90ee90\")\n",
    "plt.plot(x[x2:x3+1], y[x2:x3+1],marker='.', markerfacecolor='blue', markersize=5,color=\"#f5bc5e\")\n",
    "plt.plot(x[x3:], y[x3:],marker='.', markerfacecolor='blue', markersize=5,color=\"#f85c4d\")\n",
    "plt.show()\n",
    "#--------------------------------------------------------------------\n",
    "nrg=len(words)\n",
    "drg=0\n",
    "for i in range(len(g)):\n",
    "    xg=g[i]\n",
    "    xg=(xg-3)*(30-xg)\n",
    "    if(xg>0):\n",
    "        drg=drg+1\n",
    "    else:\n",
    "        drg=drg-1\n",
    "#--------------------------------------------------------------------\n",
    "print(t1g)\n",
    "print(gstd)\n",
    "print(nrg)\n",
    "print(drg)\n",
    "t3g=drg/nrg\n",
    "print(t3g)\n",
    "dqic1g=t1g+(gstd*t3g)\n",
    "print(dqic1g)"
   ]
  },
  {
   "cell_type": "code",
   "execution_count": 5,
   "metadata": {
    "scrolled": false
   },
   "outputs": [
    {
     "name": "stdout",
     "output_type": "stream",
     "text": [
      "SENTENCE\n"
     ]
    },
    {
     "data": {
      "image/png": "[encoded data removed]",
      "text/plain": [
       "<Figure size 1152x576 with 1 Axes>"
      ]
     },
     "metadata": {
      "needs_background": "light"
     },
     "output_type": "display_data"
    },
    {
     "data": {
      "text/plain": [
       "<Figure size 432x288 with 0 Axes>"
      ]
     },
     "metadata": {},
     "output_type": "display_data"
    },
    {
     "data": {
      "image/png": "[encoded data removed]",
      "text/plain": [
       "<Figure size 1152x576 with 1 Axes>"
      ]
     },
     "metadata": {
      "needs_background": "light"
     },
     "output_type": "display_data"
    },
    {
     "name": "stdout",
     "output_type": "stream",
     "text": [
      "0.06317199051528868\n",
      "0.0049868655553537665\n",
      "0.003990700385663723\n",
      "2.4868828067173827e-05\n",
      "1    0.995025\n",
      "2    0.004975\n",
      "Name: sentence, dtype: float64\n",
      "1/T1\n",
      "0.0003509182168450743\n",
      "T1\n",
      "2849.666822630318\n",
      "198\n",
      "202\n",
      "T2\n",
      "0.9801980198019802\n",
      "WORDS\n",
      "585\n",
      "5.326602721371306e-05\n",
      "1/T1\n",
      "0.00729835784363257\n",
      "T1\n",
      "137.01712377291105\n",
      "824\n",
      "1294\n",
      "T2\n",
      "0.6367851622874807\n",
      "man        0.059505\n",
      "woman      0.035549\n",
      "people     0.016229\n",
      "two        0.014683\n",
      "sitting    0.012365\n",
      "black      0.011592\n",
      "dtype: float64\n",
      "ADJ\n",
      "1/T1\n",
      "0.01796284421456917\n",
      "T1\n",
      "55.670471115533445\n",
      "248.0\n",
      "76.0\n",
      "T2\n",
      "0.3064516129032258\n",
      "22     15.0\n",
      "29     14.0\n",
      "96     11.0\n",
      "34     10.0\n",
      "19      8.0\n",
      "68      8.0\n",
      "95      7.0\n",
      "46      7.0\n",
      "123     6.0\n",
      "13      4.0\n",
      "128     4.0\n",
      "5       4.0\n",
      "56      4.0\n",
      "118     3.0\n",
      "8       3.0\n",
      "49      3.0\n",
      "99      3.0\n",
      "127     3.0\n",
      "105     2.0\n",
      "24      2.0\n",
      "dtype: float64\n",
      "130\n",
      "ADV\n",
      "1/T1\n",
      "0.04591666465592105\n",
      "T1\n",
      "21.778585345724757\n",
      "36.0\n",
      "-4.0\n",
      "T2\n",
      "-0.1111111111111111\n",
      "9     0.138889\n",
      "20    0.111111\n",
      "13    0.083333\n",
      "2     0.055556\n",
      "15    0.055556\n",
      "7     0.055556\n",
      "8     0.055556\n",
      "22    0.027778\n",
      "1     0.027778\n",
      "3     0.027778\n",
      "4     0.027778\n",
      "5     0.027778\n",
      "6     0.027778\n",
      "11    0.027778\n",
      "10    0.027778\n",
      "21    0.027778\n",
      "12    0.027778\n",
      "14    0.027778\n",
      "16    0.027778\n",
      "17    0.027778\n",
      "dtype: float64\n",
      "VERB\n",
      "1/T1\n",
      "0.01966019165725502\n",
      "T1\n",
      "50.86420404406277\n",
      "253.0\n",
      "-9.0\n",
      "T2\n",
      "-0.03557312252964427\n",
      "57     0.063241\n",
      "97     0.055336\n",
      "59     0.047431\n",
      "69     0.043478\n",
      "5      0.031621\n",
      "104    0.031621\n",
      "55     0.027668\n",
      "49     0.023715\n",
      "27     0.019763\n",
      "79     0.015810\n",
      "29     0.015810\n",
      "43     0.015810\n",
      "35     0.015810\n",
      "58     0.015810\n",
      "30     0.011858\n",
      "64     0.011858\n",
      "89     0.011858\n",
      "62     0.011858\n",
      "52     0.011858\n",
      "8      0.011858\n",
      "dtype: float64\n",
      "NOUN\n",
      "1/T1\n",
      "0.020183104919493718\n",
      "T1\n",
      "49.546390606836546\n",
      "675.0\n",
      "233.0\n",
      "T2\n",
      "0.3451851851851852\n",
      "172    0.114074\n",
      "123    0.068148\n",
      "32     0.031111\n",
      "134    0.019259\n",
      "23     0.016296\n",
      "204    0.016296\n",
      "153    0.014815\n",
      "258    0.013333\n",
      "117    0.013333\n",
      "66     0.010370\n",
      "48     0.010370\n",
      "207    0.008889\n",
      "24     0.008889\n",
      "26     0.008889\n",
      "160    0.008889\n",
      "190    0.008889\n",
      "167    0.007407\n",
      "88     0.007407\n",
      "86     0.007407\n",
      "36     0.007407\n",
      "dtype: float64\n",
      "BI\n",
      "1/T1\n",
      "0.001432713121636663\n",
      "T1\n",
      "697.9764370815896\n",
      "2109\n",
      "1450\n",
      "1859\n",
      "T2\n",
      "0.8814604077761973\n",
      "in       a          0.028966\n",
      "a        man        0.024138\n",
      "         woman      0.017241\n",
      "on       a          0.015862\n",
      "man      is         0.011724\n",
      "in       the        0.011724\n",
      "man      in         0.009655\n",
      "of       a          0.008966\n",
      "with     a          0.008966\n",
      "the      man        0.007586\n",
      "and      a          0.007586\n",
      "at       a          0.006897\n",
      "a        young      0.006897\n",
      "         red        0.006207\n",
      "         blue       0.005517\n",
      "wearing  a          0.005517\n",
      "is       sitting    0.005517\n",
      "on       the        0.005517\n",
      "woman    in         0.004828\n",
      "a        person     0.004828\n",
      "dtype: float64\n",
      "TRI\n",
      "1/T1\n",
      "0.0003694902098622748\n",
      "T1\n",
      "2706.4316545024126\n",
      "1907\n",
      "1685\n",
      "1689\n",
      "T2\n",
      "0.8856843209229156\n",
      "man      in       a         0.007122\n",
      "a        man      in        0.006528\n",
      "         young    man       0.004154\n",
      "         man      is        0.004154\n",
      "group    of       people    0.003561\n",
      "the      man      is        0.003561\n",
      "woman    in       a         0.003561\n",
      "a        group    of        0.003561\n",
      "in       front    of        0.003561\n",
      "a        woman    in        0.002967\n",
      "in       a        blue      0.002967\n",
      "a        woman    is        0.002374\n",
      "front    of       a         0.002374\n",
      "an       old      man       0.002374\n",
      "is       holding  a         0.002374\n",
      "man      wearing  a         0.002374\n",
      "a        small    child     0.002374\n",
      "is       sitting  on        0.002374\n",
      "sitting  on       a         0.002374\n",
      "man      and      a         0.001780\n",
      "dtype: float64\n"
     ]
    },
    {
     "data": {
      "text/plain": [
       "<Figure size 432x288 with 0 Axes>"
      ]
     },
     "metadata": {},
     "output_type": "display_data"
    }
   ],
   "source": [
    "print(\"SENTENCE\")\n",
    "gwords=pd.read_csv(\"./test_good_101_1_words.csv\")\n",
    "df_traingood = pd.read_csv(\"./test_good_101_1.csv\")\n",
    "nlp = spacy.load(\"en_trf_bertbaseuncased_lg\")\n",
    "data = gwords['fullnopunc'].to_list()\n",
    "dff = pd.DataFrame(data,columns=['sentence'])\n",
    "dff = dff.dropna(thresh=1)\n",
    "m1=[]\n",
    "m2=[]\n",
    "xx=[]\n",
    "\n",
    "for i in range(1000):\n",
    "    df=dff.sample(frac=random.random())\n",
    "    count = df['sentence'].value_counts() \n",
    "    x=count.value_counts(normalize=True)\n",
    "    x.sort_index()\n",
    "    z=x.index\n",
    "    y=[]\n",
    "    for j in range(1,3):\n",
    "        if j in z:\n",
    "            y.append(x[j])\n",
    "        else:\n",
    "            y.append(0)       \n",
    "    m1.append(y[0])\n",
    "    m2.append(y[1])\n",
    "    xx.append(len(count))    \n",
    "fig, ax = plt.subplots(figsize=(16,8))\n",
    "ax.scatter(xx,m1,c='green')\n",
    "ax.grid(color='grey', linestyle='-', linewidth=0.25, alpha=0.5)\n",
    "ax.spines['top'].set_visible(False)\n",
    "ax.spines['right'].set_visible(False)\n",
    "plt.show()\n",
    "plt.clf()\n",
    "fig, ax = plt.subplots(figsize=(16,8))\n",
    "ax.scatter(xx,m2,c='blue')\n",
    "ax.grid(color='grey', linestyle='-', linewidth=0.25, alpha=0.5)\n",
    "ax.spines['top'].set_visible(False)\n",
    "ax.spines['right'].set_visible(False)\n",
    "plt.show()\n",
    "plt.clf()\n",
    "\n",
    "print(pd.Series(m1).std())\n",
    "print(pd.Series(m2).std())\n",
    "print(pd.Series(m1).var())\n",
    "print(pd.Series(m2).var())\n",
    "\n",
    "count = dff['sentence'].value_counts() \n",
    "count.sort_values(ascending=False)\n",
    "print(count.value_counts(normalize=True))\n",
    "\n",
    "sentencestd=(count/len(count)).std()\n",
    "\n",
    "print(\"1/T1\")\n",
    "print(sentencestd)\n",
    "print(\"T1\")\n",
    "print(1/sentencestd)\n",
    "\n",
    "nr=len(gwords)\n",
    "dr=0\n",
    "for i in range(len(count)):\n",
    "    xdr=(2-count[i])\n",
    "    if(xdr>0):\n",
    "        dr=dr+count[i]\n",
    "    else:\n",
    "        dr=dr-count[i]\n",
    "print(dr)\n",
    "print(nr)\n",
    "print(\"T2\")\n",
    "print(dr/nr)\n",
    "#------------------------------------------------------\n",
    "print(\"WORDS\")\n",
    "magwordsg=gwords.final.str.split(expand=True).stack().value_counts()\n",
    "gnw=(magwordsg/len(magwordsg))\n",
    "print(len(magwordsg))\n",
    "print(gnw.var())\n",
    "print(\"1/T1\")\n",
    "print(gnw.std())\n",
    "print(\"T1\")\n",
    "print(1/gnw.std())\n",
    "\n",
    "nr=magwordsg.sum() \n",
    "dr=0\n",
    "for i in range(len(magwordsg)):\n",
    "    xdr=((0.01*nr)-magwordsg[i])*(magwordsg[i]-1)\n",
    "    if(xdr>=0):\n",
    "        dr=dr+magwordsg[i]\n",
    "    else:\n",
    "        dr=dr-magwordsg[i]\n",
    "print(dr)\n",
    "print(nr)\n",
    "print(\"T2\")\n",
    "print(dr/nr)\n",
    "print((magwordsg/nr).head(6))\n",
    "#------------------------------------------------------\n",
    "tagged=nltk.pos_tag(magwordsg.index)\n",
    "tagged\n",
    "tagged_reduced_adjective = set()\n",
    "tagged_reduced_verbs = set()\n",
    "tagged_reduced_adverbs = set()\n",
    "tagged_reduced_nouns = set()\n",
    "for speech_tag in tagged:\n",
    "    if speech_tag[1] in ['JJ','JJR','JJS']:\n",
    "        tagged_reduced_adjective.add(speech_tag[0])\n",
    "    elif speech_tag[1] in ['RB','RBR','RBS']:\n",
    "        tagged_reduced_adverbs.add(speech_tag[0])\n",
    "    elif speech_tag[1] in ['VB','VBD','VBG','VBN','VBP','VBZ']:\n",
    "        tagged_reduced_verbs.add(speech_tag[0])\n",
    "    elif speech_tag[1] in ['NN','NNS','NNP','NNPS']:\n",
    "        tagged_reduced_nouns.add(speech_tag[0])\n",
    "print(\"ADJ\")\n",
    "arr=np.zeros(shape=(len(tagged_reduced_adjective)))\n",
    "j=0\n",
    "for w in (tagged_reduced_adjective):\n",
    "    for i in range(len(magwordsg)):\n",
    "        if(magwordsg.index[i]==w):\n",
    "            arr[j]=magwordsg[i]\n",
    "            j=j+1\n",
    "narr=(arr/len(arr))\n",
    "adjvar=narr.std()\n",
    "print(\"1/T1\")\n",
    "print(adjvar)\n",
    "print(\"T1\")\n",
    "print(1/adjvar)\n",
    "\n",
    "\n",
    "nr=arr.sum() \n",
    "print(nr)\n",
    "dr=0\n",
    "for i in range(len(arr)):\n",
    "    xdr=((0.02*nr)-arr[i])*(arr[i]-1)\n",
    "    if(xdr>=0):\n",
    "        dr=dr+arr[i]\n",
    "    else:\n",
    "        dr=dr-arr[i]\n",
    "print(dr)\n",
    "print(\"T2\")\n",
    "print(dr/nr)\n",
    "\n",
    "print(pd.Series(arr).sort_values(ascending=False).head(20))\n",
    "print(len(arr))\n",
    "#------------------------------------------------------\n",
    "print(\"ADV\")\n",
    "arr=np.zeros(shape=(len(tagged_reduced_adverbs)))\n",
    "j=0\n",
    "for w in (tagged_reduced_adverbs):\n",
    "    for i in range(len(magwordsg)):\n",
    "        if(magwordsg.index[i]==w):\n",
    "            arr[j]=magwordsg[i]\n",
    "            j=j+1\n",
    "narr=(arr/len(arr))\n",
    "advvar=narr.std()\n",
    "print(\"1/T1\")\n",
    "print(advvar)\n",
    "print(\"T1\")\n",
    "print(1/advvar)\n",
    "\n",
    "nr=arr.sum() \n",
    "print(nr)\n",
    "dr=0\n",
    "for i in range(len(arr)):\n",
    "    xdr=((0.03*nr)-arr[i])*(arr[i]-1)\n",
    "    if(xdr>=0):\n",
    "        dr=dr+arr[i]\n",
    "    else:\n",
    "        dr=dr-arr[i]\n",
    "print(dr)\n",
    "print(\"T2\")\n",
    "print(dr/nr)\n",
    "\n",
    "print(pd.Series(arr/nr).sort_values(ascending=False).head(20))\n",
    "#------------------------------------------------------\n",
    "print(\"VERB\")\n",
    "arr=np.zeros(shape=(len(tagged_reduced_verbs)))\n",
    "j=0\n",
    "for w in (tagged_reduced_verbs):\n",
    "    for i in range(len(magwordsg)):\n",
    "        if(magwordsg.index[i]==w):\n",
    "            arr[j]=magwordsg[i]\n",
    "            j=j+1\n",
    "narr=(arr/len(arr))\n",
    "verbvar=narr.std()\n",
    "print(\"1/T1\")\n",
    "print(verbvar)\n",
    "print(\"T1\")\n",
    "print(1/verbvar)\n",
    "\n",
    "\n",
    "\n",
    "nr=arr.sum() \n",
    "print(nr)\n",
    "dr=0\n",
    "for i in range(len(arr)):\n",
    "    xdr=((0.01*nr)-arr[i])*(arr[i]-1)\n",
    "    if(xdr>=0):\n",
    "        dr=dr+arr[i]\n",
    "    else:\n",
    "        dr=dr-arr[i]\n",
    "print(dr)\n",
    "print(\"T2\")\n",
    "print(dr/nr)\n",
    "print(pd.Series(arr/nr).sort_values(ascending=False).head(20))\n",
    "#------------------------------------------------------\n",
    "print(\"NOUN\")\n",
    "arr=np.zeros(shape=(len(tagged_reduced_nouns)))\n",
    "j=0\n",
    "for w in (tagged_reduced_nouns):\n",
    "    for i in range(len(magwordsg)):\n",
    "        if(magwordsg.index[i]==w):\n",
    "            arr[j]=magwordsg[i]\n",
    "            j=j+1\n",
    "narr=(arr/len(arr))\n",
    "nounvar=narr.std()\n",
    "print(\"1/T1\")\n",
    "print(nounvar)\n",
    "print(\"T1\")\n",
    "print(1/nounvar)\n",
    "\n",
    "\n",
    "nr=arr.sum() \n",
    "print(nr)\n",
    "dr=0\n",
    "for i in range(len(arr)):\n",
    "    xdr=((0.01*nr)-arr[i])*(arr[i]-1)\n",
    "    if(xdr>=0):\n",
    "        dr=dr+arr[i]\n",
    "    else:\n",
    "        dr=dr-arr[i]\n",
    "print(dr)\n",
    "print(\"T2\")\n",
    "print(dr/nr)\n",
    "print(pd.Series(arr/nr).sort_values(ascending=False).head(20))\n",
    "#------------------------------------------------------\n",
    "print(\"BI\")\n",
    "data = gwords['fullnopunc'].to_list()\n",
    "def find_ngrams(input_list, n):\n",
    "    return list(zip(*[input_list[i:] for i in range(n)]))\n",
    "df = pd.DataFrame(data,columns=['sentence'])\n",
    "df = df.dropna(thresh=1)\n",
    "df['bigrams'] = df['sentence'].map(lambda x: find_ngrams(x.split(\" \"), 2))\n",
    "bigrams = df['bigrams'].tolist()\n",
    "bigrams = list(chain(*bigrams))\n",
    "bigrams = [(x.lower(), y.lower()) for x,y in bigrams]\n",
    "bigram_counts = Counter(bigrams)\n",
    "bi=pd.Series(bigram_counts)\n",
    "nbi=(bi/len(bi))\n",
    "bivar=nbi.std()\n",
    "print(\"1/T1\")\n",
    "print(bivar)\n",
    "print(\"T1\")\n",
    "print(1/bivar)\n",
    "\n",
    "\n",
    "nr=bi.sum() \n",
    "print(nr)\n",
    "print(len(bi))\n",
    "dr=0\n",
    "for i in range(len(bi)):\n",
    "    xdr=((0.01*nr)-bi[i])*(bi[i]-1)\n",
    "    if(xdr>=0):\n",
    "        dr=dr+bi[i]\n",
    "    else:\n",
    "        dr=dr-bi[i]\n",
    "print(dr)\n",
    "print(\"T2\")\n",
    "print(dr/nr)\n",
    "bi=bi.sort_values(ascending=False)\n",
    "print((bi/len(bi)).head(20))\n",
    "#------------------------------------------------------\n",
    "print(\"TRI\")\n",
    "df['trigrams'] = df['sentence'].map(lambda x: find_ngrams(x.split(\" \"), 3))\n",
    "trigrams = df['trigrams'].tolist()\n",
    "trigrams = list(chain(*trigrams))\n",
    "trigrams = [(x.lower(), y.lower(),z.lower()) for x,y,z in trigrams]\n",
    "trigram_counts = Counter(trigrams)\n",
    "tri=pd.Series(trigram_counts)\n",
    "ntri=(tri/len(tri))\n",
    "trivar=ntri.std()\n",
    "print(\"1/T1\")\n",
    "print(trivar)\n",
    "print(\"T1\")\n",
    "print(1/trivar)\n",
    "\n",
    "\n",
    "nr=tri.sum() \n",
    "print(nr)\n",
    "print(len(tri))\n",
    "dr=0\n",
    "for i in range(len(tri)):\n",
    "    xdr=((0.002*nr)-tri[i])*(tri[i]-1)\n",
    "    if(xdr>=0):\n",
    "        dr=dr+tri[i]\n",
    "    else:\n",
    "        dr=dr-tri[i]\n",
    "print(dr)\n",
    "print(\"T2\")\n",
    "print(dr/nr)\n",
    "tri=tri.sort_values(ascending=False)\n",
    "print((tri/len(tri)).head(20))\n",
    "\n",
    "\n",
    "\n",
    "\n",
    "\n",
    "\n",
    "\n",
    "\n"
   ]
  },
  {
   "cell_type": "code",
   "execution_count": 3,
   "metadata": {},
   "outputs": [
    {
     "data": {
      "application/vnd.jupyter.widget-view+json": {
       "model_id": "b3a2571bc4b64a8c8b3f9c40eab1aa86",
       "version_major": 2,
       "version_minor": 0
      },
      "text/plain": [
       "HBox(children=(IntProgress(value=0, max=202), HTML(value='')))"
      ]
     },
     "metadata": {},
     "output_type": "display_data"
    },
    {
     "data": {
      "application/vnd.jupyter.widget-view+json": {
       "model_id": "1120f21d084c4f679fda2befc50702f9",
       "version_major": 2,
       "version_minor": 0
      },
      "text/plain": [
       "HBox(children=(IntProgress(value=0, max=202), HTML(value='')))"
      ]
     },
     "metadata": {},
     "output_type": "display_data"
    },
    {
     "name": "stdout",
     "output_type": "stream",
     "text": [
      "\n"
     ]
    },
    {
     "data": {
      "application/vnd.jupyter.widget-view+json": {
       "model_id": "4696588fe4a2469b94650ebdde7c352d",
       "version_major": 2,
       "version_minor": 0
      },
      "text/plain": [
       "HBox(children=(IntProgress(value=0, max=202), HTML(value='')))"
      ]
     },
     "metadata": {},
     "output_type": "display_data"
    },
    {
     "name": "stdout",
     "output_type": "stream",
     "text": [
      "\n"
     ]
    },
    {
     "data": {
      "application/vnd.jupyter.widget-view+json": {
       "model_id": "fffa8c71d5254282a366c6464501e192",
       "version_major": 2,
       "version_minor": 0
      },
      "text/plain": [
       "HBox(children=(IntProgress(value=0, max=202), HTML(value='')))"
      ]
     },
     "metadata": {},
     "output_type": "display_data"
    },
    {
     "name": "stdout",
     "output_type": "stream",
     "text": [
      "\n"
     ]
    },
    {
     "data": {
      "application/vnd.jupyter.widget-view+json": {
       "model_id": "1c342bb1179649f59650ce68ef056870",
       "version_major": 2,
       "version_minor": 0
      },
      "text/plain": [
       "HBox(children=(IntProgress(value=0, max=202), HTML(value='')))"
      ]
     },
     "metadata": {},
     "output_type": "display_data"
    },
    {
     "name": "stdout",
     "output_type": "stream",
     "text": [
      "\n"
     ]
    },
    {
     "data": {
      "application/vnd.jupyter.widget-view+json": {
       "model_id": "7b623a17ed37400ab0de676f68c185c5",
       "version_major": 2,
       "version_minor": 0
      },
      "text/plain": [
       "HBox(children=(IntProgress(value=0, max=202), HTML(value='')))"
      ]
     },
     "metadata": {},
     "output_type": "display_data"
    },
    {
     "name": "stdout",
     "output_type": "stream",
     "text": [
      "\n"
     ]
    },
    {
     "data": {
      "application/vnd.jupyter.widget-view+json": {
       "model_id": "780ea8625ca64b00a139c47aa0b5c2d3",
       "version_major": 2,
       "version_minor": 0
      },
      "text/plain": [
       "HBox(children=(IntProgress(value=0, max=202), HTML(value='')))"
      ]
     },
     "metadata": {},
     "output_type": "display_data"
    },
    {
     "name": "stdout",
     "output_type": "stream",
     "text": [
      "\n"
     ]
    },
    {
     "data": {
      "application/vnd.jupyter.widget-view+json": {
       "model_id": "0765f93a0a4542a799bc693f8bf743dc",
       "version_major": 2,
       "version_minor": 0
      },
      "text/plain": [
       "HBox(children=(IntProgress(value=0, max=202), HTML(value='')))"
      ]
     },
     "metadata": {},
     "output_type": "display_data"
    },
    {
     "name": "stdout",
     "output_type": "stream",
     "text": [
      "\n"
     ]
    },
    {
     "data": {
      "application/vnd.jupyter.widget-view+json": {
       "model_id": "330085fa479f4672b217af427ff103f2",
       "version_major": 2,
       "version_minor": 0
      },
      "text/plain": [
       "HBox(children=(IntProgress(value=0, max=202), HTML(value='')))"
      ]
     },
     "metadata": {},
     "output_type": "display_data"
    },
    {
     "name": "stdout",
     "output_type": "stream",
     "text": [
      "\n"
     ]
    },
    {
     "data": {
      "application/vnd.jupyter.widget-view+json": {
       "model_id": "22b3fc5f434b49eebf07a6dc183e6ab0",
       "version_major": 2,
       "version_minor": 0
      },
      "text/plain": [
       "HBox(children=(IntProgress(value=0, max=202), HTML(value='')))"
      ]
     },
     "metadata": {},
     "output_type": "display_data"
    },
    {
     "name": "stdout",
     "output_type": "stream",
     "text": [
      "\n"
     ]
    },
    {
     "data": {
      "application/vnd.jupyter.widget-view+json": {
       "model_id": "f0d78307fdbd457d9221248fe3702a3c",
       "version_major": 2,
       "version_minor": 0
      },
      "text/plain": [
       "HBox(children=(IntProgress(value=0, max=202), HTML(value='')))"
      ]
     },
     "metadata": {},
     "output_type": "display_data"
    },
    {
     "name": "stdout",
     "output_type": "stream",
     "text": [
      "\n"
     ]
    },
    {
     "data": {
      "application/vnd.jupyter.widget-view+json": {
       "model_id": "2819575d61ef49dfa26276e43eb795be",
       "version_major": 2,
       "version_minor": 0
      },
      "text/plain": [
       "HBox(children=(IntProgress(value=0, max=202), HTML(value='')))"
      ]
     },
     "metadata": {},
     "output_type": "display_data"
    },
    {
     "name": "stdout",
     "output_type": "stream",
     "text": [
      "\n"
     ]
    },
    {
     "data": {
      "application/vnd.jupyter.widget-view+json": {
       "model_id": "3f9ba47b3f26469abde3b1ca411886f6",
       "version_major": 2,
       "version_minor": 0
      },
      "text/plain": [
       "HBox(children=(IntProgress(value=0, max=202), HTML(value='')))"
      ]
     },
     "metadata": {},
     "output_type": "display_data"
    },
    {
     "name": "stdout",
     "output_type": "stream",
     "text": [
      "\n"
     ]
    },
    {
     "data": {
      "application/vnd.jupyter.widget-view+json": {
       "model_id": "069f715f6ba34e51b5b45fa4e5d9a869",
       "version_major": 2,
       "version_minor": 0
      },
      "text/plain": [
       "HBox(children=(IntProgress(value=0, max=202), HTML(value='')))"
      ]
     },
     "metadata": {},
     "output_type": "display_data"
    },
    {
     "name": "stdout",
     "output_type": "stream",
     "text": [
      "\n"
     ]
    },
    {
     "data": {
      "application/vnd.jupyter.widget-view+json": {
       "model_id": "e525694271e6476cb48317be3d5621f8",
       "version_major": 2,
       "version_minor": 0
      },
      "text/plain": [
       "HBox(children=(IntProgress(value=0, max=202), HTML(value='')))"
      ]
     },
     "metadata": {},
     "output_type": "display_data"
    },
    {
     "name": "stdout",
     "output_type": "stream",
     "text": [
      "\n"
     ]
    },
    {
     "data": {
      "application/vnd.jupyter.widget-view+json": {
       "model_id": "cf112f7a48244177a9c6714e3bb63fef",
       "version_major": 2,
       "version_minor": 0
      },
      "text/plain": [
       "HBox(children=(IntProgress(value=0, max=202), HTML(value='')))"
      ]
     },
     "metadata": {},
     "output_type": "display_data"
    },
    {
     "name": "stdout",
     "output_type": "stream",
     "text": [
      "\n"
     ]
    },
    {
     "data": {
      "application/vnd.jupyter.widget-view+json": {
       "model_id": "269220d0bb52473ba47eb703cdc423d5",
       "version_major": 2,
       "version_minor": 0
      },
      "text/plain": [
       "HBox(children=(IntProgress(value=0, max=202), HTML(value='')))"
      ]
     },
     "metadata": {},
     "output_type": "display_data"
    },
    {
     "name": "stdout",
     "output_type": "stream",
     "text": [
      "\n"
     ]
    },
    {
     "data": {
      "application/vnd.jupyter.widget-view+json": {
       "model_id": "3c28852f31004ebf9bbb0757acc73781",
       "version_major": 2,
       "version_minor": 0
      },
      "text/plain": [
       "HBox(children=(IntProgress(value=0, max=202), HTML(value='')))"
      ]
     },
     "metadata": {},
     "output_type": "display_data"
    },
    {
     "name": "stdout",
     "output_type": "stream",
     "text": [
      "\n"
     ]
    },
    {
     "data": {
      "application/vnd.jupyter.widget-view+json": {
       "model_id": "214a8e1d7f674b5ea519e758752e105d",
       "version_major": 2,
       "version_minor": 0
      },
      "text/plain": [
       "HBox(children=(IntProgress(value=0, max=202), HTML(value='')))"
      ]
     },
     "metadata": {},
     "output_type": "display_data"
    },
    {
     "name": "stdout",
     "output_type": "stream",
     "text": [
      "\n"
     ]
    },
    {
     "data": {
      "application/vnd.jupyter.widget-view+json": {
       "model_id": "6c47027c59574501be0eca282958b839",
       "version_major": 2,
       "version_minor": 0
      },
      "text/plain": [
       "HBox(children=(IntProgress(value=0, max=202), HTML(value='')))"
      ]
     },
     "metadata": {},
     "output_type": "display_data"
    },
    {
     "name": "stdout",
     "output_type": "stream",
     "text": [
      "\n"
     ]
    },
    {
     "data": {
      "application/vnd.jupyter.widget-view+json": {
       "model_id": "03fd7cc73fb84e589b8151681094b3ae",
       "version_major": 2,
       "version_minor": 0
      },
      "text/plain": [
       "HBox(children=(IntProgress(value=0, max=202), HTML(value='')))"
      ]
     },
     "metadata": {},
     "output_type": "display_data"
    },
    {
     "name": "stdout",
     "output_type": "stream",
     "text": [
      "\n"
     ]
    },
    {
     "data": {
      "application/vnd.jupyter.widget-view+json": {
       "model_id": "2b66e557c30b48cb83c9f08df61d1aa1",
       "version_major": 2,
       "version_minor": 0
      },
      "text/plain": [
       "HBox(children=(IntProgress(value=0, max=202), HTML(value='')))"
      ]
     },
     "metadata": {},
     "output_type": "display_data"
    },
    {
     "name": "stdout",
     "output_type": "stream",
     "text": [
      "\n"
     ]
    },
    {
     "data": {
      "application/vnd.jupyter.widget-view+json": {
       "model_id": "20306a1baf31492ca1aa899c6d6ec62f",
       "version_major": 2,
       "version_minor": 0
      },
      "text/plain": [
       "HBox(children=(IntProgress(value=0, max=202), HTML(value='')))"
      ]
     },
     "metadata": {},
     "output_type": "display_data"
    },
    {
     "name": "stdout",
     "output_type": "stream",
     "text": [
      "\n"
     ]
    },
    {
     "data": {
      "application/vnd.jupyter.widget-view+json": {
       "model_id": "b9dc0f5f37884e0ba0e76b7a1e451a0e",
       "version_major": 2,
       "version_minor": 0
      },
      "text/plain": [
       "HBox(children=(IntProgress(value=0, max=202), HTML(value='')))"
      ]
     },
     "metadata": {},
     "output_type": "display_data"
    },
    {
     "name": "stdout",
     "output_type": "stream",
     "text": [
      "\n"
     ]
    },
    {
     "data": {
      "application/vnd.jupyter.widget-view+json": {
       "model_id": "fc4702894be244b29c07b47f5dbc1d1c",
       "version_major": 2,
       "version_minor": 0
      },
      "text/plain": [
       "HBox(children=(IntProgress(value=0, max=202), HTML(value='')))"
      ]
     },
     "metadata": {},
     "output_type": "display_data"
    },
    {
     "name": "stdout",
     "output_type": "stream",
     "text": [
      "\n"
     ]
    },
    {
     "data": {
      "application/vnd.jupyter.widget-view+json": {
       "model_id": "d59a1cb2ecb243419563645333cc00aa",
       "version_major": 2,
       "version_minor": 0
      },
      "text/plain": [
       "HBox(children=(IntProgress(value=0, max=202), HTML(value='')))"
      ]
     },
     "metadata": {},
     "output_type": "display_data"
    },
    {
     "name": "stdout",
     "output_type": "stream",
     "text": [
      "\n"
     ]
    },
    {
     "data": {
      "application/vnd.jupyter.widget-view+json": {
       "model_id": "688b9f8a3ea54b848e524cb865271790",
       "version_major": 2,
       "version_minor": 0
      },
      "text/plain": [
       "HBox(children=(IntProgress(value=0, max=202), HTML(value='')))"
      ]
     },
     "metadata": {},
     "output_type": "display_data"
    },
    {
     "name": "stdout",
     "output_type": "stream",
     "text": [
      "\n"
     ]
    },
    {
     "data": {
      "application/vnd.jupyter.widget-view+json": {
       "model_id": "306f4874c2394b6294faf2b4e072180b",
       "version_major": 2,
       "version_minor": 0
      },
      "text/plain": [
       "HBox(children=(IntProgress(value=0, max=202), HTML(value='')))"
      ]
     },
     "metadata": {},
     "output_type": "display_data"
    },
    {
     "name": "stdout",
     "output_type": "stream",
     "text": [
      "\n"
     ]
    },
    {
     "data": {
      "application/vnd.jupyter.widget-view+json": {
       "model_id": "07a62abb08a6472291ccb67b6d8a704f",
       "version_major": 2,
       "version_minor": 0
      },
      "text/plain": [
       "HBox(children=(IntProgress(value=0, max=202), HTML(value='')))"
      ]
     },
     "metadata": {},
     "output_type": "display_data"
    },
    {
     "name": "stdout",
     "output_type": "stream",
     "text": [
      "\n"
     ]
    },
    {
     "data": {
      "application/vnd.jupyter.widget-view+json": {
       "model_id": "a987f504d3de451d98bdad8e587b955d",
       "version_major": 2,
       "version_minor": 0
      },
      "text/plain": [
       "HBox(children=(IntProgress(value=0, max=202), HTML(value='')))"
      ]
     },
     "metadata": {},
     "output_type": "display_data"
    },
    {
     "name": "stdout",
     "output_type": "stream",
     "text": [
      "\n"
     ]
    },
    {
     "data": {
      "application/vnd.jupyter.widget-view+json": {
       "model_id": "9cd17ad985284cc4b94ea00b2ceeeb37",
       "version_major": 2,
       "version_minor": 0
      },
      "text/plain": [
       "HBox(children=(IntProgress(value=0, max=202), HTML(value='')))"
      ]
     },
     "metadata": {},
     "output_type": "display_data"
    },
    {
     "name": "stdout",
     "output_type": "stream",
     "text": [
      "\n"
     ]
    },
    {
     "data": {
      "application/vnd.jupyter.widget-view+json": {
       "model_id": "e043b912841542eb9f66226eae9dfa46",
       "version_major": 2,
       "version_minor": 0
      },
      "text/plain": [
       "HBox(children=(IntProgress(value=0, max=202), HTML(value='')))"
      ]
     },
     "metadata": {},
     "output_type": "display_data"
    },
    {
     "name": "stdout",
     "output_type": "stream",
     "text": [
      "\n"
     ]
    },
    {
     "data": {
      "application/vnd.jupyter.widget-view+json": {
       "model_id": "b06debd7eb014dd5a62018ffd29ae328",
       "version_major": 2,
       "version_minor": 0
      },
      "text/plain": [
       "HBox(children=(IntProgress(value=0, max=202), HTML(value='')))"
      ]
     },
     "metadata": {},
     "output_type": "display_data"
    },
    {
     "name": "stdout",
     "output_type": "stream",
     "text": [
      "\n"
     ]
    },
    {
     "data": {
      "application/vnd.jupyter.widget-view+json": {
       "model_id": "d7984067340c447c98f9565b3016b507",
       "version_major": 2,
       "version_minor": 0
      },
      "text/plain": [
       "HBox(children=(IntProgress(value=0, max=202), HTML(value='')))"
      ]
     },
     "metadata": {},
     "output_type": "display_data"
    },
    {
     "name": "stdout",
     "output_type": "stream",
     "text": [
      "\n"
     ]
    },
    {
     "data": {
      "application/vnd.jupyter.widget-view+json": {
       "model_id": "b18d2df083d9470399009265f507627f",
       "version_major": 2,
       "version_minor": 0
      },
      "text/plain": [
       "HBox(children=(IntProgress(value=0, max=202), HTML(value='')))"
      ]
     },
     "metadata": {},
     "output_type": "display_data"
    },
    {
     "name": "stdout",
     "output_type": "stream",
     "text": [
      "\n"
     ]
    },
    {
     "data": {
      "application/vnd.jupyter.widget-view+json": {
       "model_id": "7ddadd78b77a472c899b591bc3402da4",
       "version_major": 2,
       "version_minor": 0
      },
      "text/plain": [
       "HBox(children=(IntProgress(value=0, max=202), HTML(value='')))"
      ]
     },
     "metadata": {},
     "output_type": "display_data"
    },
    {
     "name": "stdout",
     "output_type": "stream",
     "text": [
      "\n"
     ]
    },
    {
     "data": {
      "application/vnd.jupyter.widget-view+json": {
       "model_id": "15f990c38be24afb999f8e3f72bff58d",
       "version_major": 2,
       "version_minor": 0
      },
      "text/plain": [
       "HBox(children=(IntProgress(value=0, max=202), HTML(value='')))"
      ]
     },
     "metadata": {},
     "output_type": "display_data"
    },
    {
     "name": "stdout",
     "output_type": "stream",
     "text": [
      "\n"
     ]
    },
    {
     "data": {
      "application/vnd.jupyter.widget-view+json": {
       "model_id": "2c1b32c5b98b4c7398e2292e12e32b6c",
       "version_major": 2,
       "version_minor": 0
      },
      "text/plain": [
       "HBox(children=(IntProgress(value=0, max=202), HTML(value='')))"
      ]
     },
     "metadata": {},
     "output_type": "display_data"
    },
    {
     "name": "stdout",
     "output_type": "stream",
     "text": [
      "\n"
     ]
    },
    {
     "data": {
      "application/vnd.jupyter.widget-view+json": {
       "model_id": "25ab5ae272f44e458f446e4198b675ac",
       "version_major": 2,
       "version_minor": 0
      },
      "text/plain": [
       "HBox(children=(IntProgress(value=0, max=202), HTML(value='')))"
      ]
     },
     "metadata": {},
     "output_type": "display_data"
    },
    {
     "name": "stdout",
     "output_type": "stream",
     "text": [
      "\n"
     ]
    },
    {
     "data": {
      "application/vnd.jupyter.widget-view+json": {
       "model_id": "64e19e19220c40d4a91553ed7cf1197c",
       "version_major": 2,
       "version_minor": 0
      },
      "text/plain": [
       "HBox(children=(IntProgress(value=0, max=202), HTML(value='')))"
      ]
     },
     "metadata": {},
     "output_type": "display_data"
    },
    {
     "name": "stdout",
     "output_type": "stream",
     "text": [
      "\n"
     ]
    },
    {
     "data": {
      "application/vnd.jupyter.widget-view+json": {
       "model_id": "cac8196aaa764e7d818aa4b08aca1d03",
       "version_major": 2,
       "version_minor": 0
      },
      "text/plain": [
       "HBox(children=(IntProgress(value=0, max=202), HTML(value='')))"
      ]
     },
     "metadata": {},
     "output_type": "display_data"
    },
    {
     "name": "stdout",
     "output_type": "stream",
     "text": [
      "\n"
     ]
    },
    {
     "data": {
      "application/vnd.jupyter.widget-view+json": {
       "model_id": "1426a3fc692040efa542982252823db7",
       "version_major": 2,
       "version_minor": 0
      },
      "text/plain": [
       "HBox(children=(IntProgress(value=0, max=202), HTML(value='')))"
      ]
     },
     "metadata": {},
     "output_type": "display_data"
    },
    {
     "name": "stdout",
     "output_type": "stream",
     "text": [
      "\n"
     ]
    },
    {
     "data": {
      "application/vnd.jupyter.widget-view+json": {
       "model_id": "139fef1b2b004ba3a6ca42434ea68608",
       "version_major": 2,
       "version_minor": 0
      },
      "text/plain": [
       "HBox(children=(IntProgress(value=0, max=202), HTML(value='')))"
      ]
     },
     "metadata": {},
     "output_type": "display_data"
    },
    {
     "name": "stdout",
     "output_type": "stream",
     "text": [
      "\n"
     ]
    },
    {
     "data": {
      "application/vnd.jupyter.widget-view+json": {
       "model_id": "9c669a30be5f44aca8fb4fbd258a5d1f",
       "version_major": 2,
       "version_minor": 0
      },
      "text/plain": [
       "HBox(children=(IntProgress(value=0, max=202), HTML(value='')))"
      ]
     },
     "metadata": {},
     "output_type": "display_data"
    },
    {
     "name": "stdout",
     "output_type": "stream",
     "text": [
      "\n"
     ]
    },
    {
     "data": {
      "application/vnd.jupyter.widget-view+json": {
       "model_id": "c5b344265802417fa52c71018db9d2f6",
       "version_major": 2,
       "version_minor": 0
      },
      "text/plain": [
       "HBox(children=(IntProgress(value=0, max=202), HTML(value='')))"
      ]
     },
     "metadata": {},
     "output_type": "display_data"
    },
    {
     "name": "stdout",
     "output_type": "stream",
     "text": [
      "\n"
     ]
    },
    {
     "data": {
      "application/vnd.jupyter.widget-view+json": {
       "model_id": "5330af12503747f7be0ccaf5e9c9c05f",
       "version_major": 2,
       "version_minor": 0
      },
      "text/plain": [
       "HBox(children=(IntProgress(value=0, max=202), HTML(value='')))"
      ]
     },
     "metadata": {},
     "output_type": "display_data"
    },
    {
     "name": "stdout",
     "output_type": "stream",
     "text": [
      "\n"
     ]
    },
    {
     "data": {
      "application/vnd.jupyter.widget-view+json": {
       "model_id": "81aa6d95246e4eb99dd0e2cd4cd049d2",
       "version_major": 2,
       "version_minor": 0
      },
      "text/plain": [
       "HBox(children=(IntProgress(value=0, max=202), HTML(value='')))"
      ]
     },
     "metadata": {},
     "output_type": "display_data"
    },
    {
     "name": "stdout",
     "output_type": "stream",
     "text": [
      "\n"
     ]
    },
    {
     "data": {
      "application/vnd.jupyter.widget-view+json": {
       "model_id": "bc1f469d271f4630bb62e8382fe361ef",
       "version_major": 2,
       "version_minor": 0
      },
      "text/plain": [
       "HBox(children=(IntProgress(value=0, max=202), HTML(value='')))"
      ]
     },
     "metadata": {},
     "output_type": "display_data"
    },
    {
     "name": "stdout",
     "output_type": "stream",
     "text": [
      "\n"
     ]
    },
    {
     "data": {
      "application/vnd.jupyter.widget-view+json": {
       "model_id": "cc49c8a4d2b64878a60da0261edc7f7c",
       "version_major": 2,
       "version_minor": 0
      },
      "text/plain": [
       "HBox(children=(IntProgress(value=0, max=202), HTML(value='')))"
      ]
     },
     "metadata": {},
     "output_type": "display_data"
    },
    {
     "name": "stdout",
     "output_type": "stream",
     "text": [
      "\n"
     ]
    },
    {
     "data": {
      "application/vnd.jupyter.widget-view+json": {
       "model_id": "a8bef88a14694b828baefae1f1e4fa57",
       "version_major": 2,
       "version_minor": 0
      },
      "text/plain": [
       "HBox(children=(IntProgress(value=0, max=202), HTML(value='')))"
      ]
     },
     "metadata": {},
     "output_type": "display_data"
    },
    {
     "name": "stdout",
     "output_type": "stream",
     "text": [
      "\n"
     ]
    },
    {
     "data": {
      "application/vnd.jupyter.widget-view+json": {
       "model_id": "52c02c7c88f340b3bb790518ce11477e",
       "version_major": 2,
       "version_minor": 0
      },
      "text/plain": [
       "HBox(children=(IntProgress(value=0, max=202), HTML(value='')))"
      ]
     },
     "metadata": {},
     "output_type": "display_data"
    },
    {
     "name": "stdout",
     "output_type": "stream",
     "text": [
      "\n"
     ]
    },
    {
     "data": {
      "application/vnd.jupyter.widget-view+json": {
       "model_id": "8096306a450a4b37bdeb9be8978ec5fc",
       "version_major": 2,
       "version_minor": 0
      },
      "text/plain": [
       "HBox(children=(IntProgress(value=0, max=202), HTML(value='')))"
      ]
     },
     "metadata": {},
     "output_type": "display_data"
    },
    {
     "name": "stdout",
     "output_type": "stream",
     "text": [
      "\n"
     ]
    },
    {
     "data": {
      "application/vnd.jupyter.widget-view+json": {
       "model_id": "87a54b1012914512aeeaac84d45ed067",
       "version_major": 2,
       "version_minor": 0
      },
      "text/plain": [
       "HBox(children=(IntProgress(value=0, max=202), HTML(value='')))"
      ]
     },
     "metadata": {},
     "output_type": "display_data"
    },
    {
     "name": "stdout",
     "output_type": "stream",
     "text": [
      "\n"
     ]
    },
    {
     "data": {
      "application/vnd.jupyter.widget-view+json": {
       "model_id": "21a26674f40c4413a1c8cfc6f77c5881",
       "version_major": 2,
       "version_minor": 0
      },
      "text/plain": [
       "HBox(children=(IntProgress(value=0, max=202), HTML(value='')))"
      ]
     },
     "metadata": {},
     "output_type": "display_data"
    },
    {
     "name": "stdout",
     "output_type": "stream",
     "text": [
      "\n"
     ]
    },
    {
     "data": {
      "application/vnd.jupyter.widget-view+json": {
       "model_id": "6fa9a6d225e84fc4a99b2b42ddee9408",
       "version_major": 2,
       "version_minor": 0
      },
      "text/plain": [
       "HBox(children=(IntProgress(value=0, max=202), HTML(value='')))"
      ]
     },
     "metadata": {},
     "output_type": "display_data"
    },
    {
     "name": "stdout",
     "output_type": "stream",
     "text": [
      "\n"
     ]
    },
    {
     "data": {
      "application/vnd.jupyter.widget-view+json": {
       "model_id": "1bbcf6653d234263ba256baf3709b85a",
       "version_major": 2,
       "version_minor": 0
      },
      "text/plain": [
       "HBox(children=(IntProgress(value=0, max=202), HTML(value='')))"
      ]
     },
     "metadata": {},
     "output_type": "display_data"
    },
    {
     "name": "stdout",
     "output_type": "stream",
     "text": [
      "\n"
     ]
    },
    {
     "data": {
      "application/vnd.jupyter.widget-view+json": {
       "model_id": "cf7c28633abe48c288ce483a8d28c689",
       "version_major": 2,
       "version_minor": 0
      },
      "text/plain": [
       "HBox(children=(IntProgress(value=0, max=202), HTML(value='')))"
      ]
     },
     "metadata": {},
     "output_type": "display_data"
    },
    {
     "name": "stdout",
     "output_type": "stream",
     "text": [
      "\n"
     ]
    },
    {
     "data": {
      "application/vnd.jupyter.widget-view+json": {
       "model_id": "f0723cddc65c4b97a2d074c16b759493",
       "version_major": 2,
       "version_minor": 0
      },
      "text/plain": [
       "HBox(children=(IntProgress(value=0, max=202), HTML(value='')))"
      ]
     },
     "metadata": {},
     "output_type": "display_data"
    },
    {
     "name": "stdout",
     "output_type": "stream",
     "text": [
      "\n"
     ]
    },
    {
     "data": {
      "application/vnd.jupyter.widget-view+json": {
       "model_id": "7e4578568aa14a7187cb6c4ff4640d74",
       "version_major": 2,
       "version_minor": 0
      },
      "text/plain": [
       "HBox(children=(IntProgress(value=0, max=202), HTML(value='')))"
      ]
     },
     "metadata": {},
     "output_type": "display_data"
    },
    {
     "name": "stdout",
     "output_type": "stream",
     "text": [
      "\n"
     ]
    },
    {
     "data": {
      "application/vnd.jupyter.widget-view+json": {
       "model_id": "62c95947cbe04b49bb3dab0367de203f",
       "version_major": 2,
       "version_minor": 0
      },
      "text/plain": [
       "HBox(children=(IntProgress(value=0, max=202), HTML(value='')))"
      ]
     },
     "metadata": {},
     "output_type": "display_data"
    },
    {
     "name": "stdout",
     "output_type": "stream",
     "text": [
      "\n"
     ]
    },
    {
     "data": {
      "application/vnd.jupyter.widget-view+json": {
       "model_id": "dc475d7e1630467387120f5f22b18b48",
       "version_major": 2,
       "version_minor": 0
      },
      "text/plain": [
       "HBox(children=(IntProgress(value=0, max=202), HTML(value='')))"
      ]
     },
     "metadata": {},
     "output_type": "display_data"
    },
    {
     "name": "stdout",
     "output_type": "stream",
     "text": [
      "\n"
     ]
    },
    {
     "data": {
      "application/vnd.jupyter.widget-view+json": {
       "model_id": "b9407b66183445e6ac33c56f71cf49ef",
       "version_major": 2,
       "version_minor": 0
      },
      "text/plain": [
       "HBox(children=(IntProgress(value=0, max=202), HTML(value='')))"
      ]
     },
     "metadata": {},
     "output_type": "display_data"
    },
    {
     "name": "stdout",
     "output_type": "stream",
     "text": [
      "\n"
     ]
    },
    {
     "data": {
      "application/vnd.jupyter.widget-view+json": {
       "model_id": "d686901272934cd4bb07ada9935d3cf0",
       "version_major": 2,
       "version_minor": 0
      },
      "text/plain": [
       "HBox(children=(IntProgress(value=0, max=202), HTML(value='')))"
      ]
     },
     "metadata": {},
     "output_type": "display_data"
    },
    {
     "name": "stdout",
     "output_type": "stream",
     "text": [
      "\n"
     ]
    },
    {
     "data": {
      "application/vnd.jupyter.widget-view+json": {
       "model_id": "f8a47ccdba1943b1ad43e3a58de7ce20",
       "version_major": 2,
       "version_minor": 0
      },
      "text/plain": [
       "HBox(children=(IntProgress(value=0, max=202), HTML(value='')))"
      ]
     },
     "metadata": {},
     "output_type": "display_data"
    },
    {
     "name": "stdout",
     "output_type": "stream",
     "text": [
      "\n"
     ]
    },
    {
     "data": {
      "application/vnd.jupyter.widget-view+json": {
       "model_id": "425026720af64008ab4ce027377fa08b",
       "version_major": 2,
       "version_minor": 0
      },
      "text/plain": [
       "HBox(children=(IntProgress(value=0, max=202), HTML(value='')))"
      ]
     },
     "metadata": {},
     "output_type": "display_data"
    },
    {
     "name": "stdout",
     "output_type": "stream",
     "text": [
      "\n"
     ]
    },
    {
     "data": {
      "application/vnd.jupyter.widget-view+json": {
       "model_id": "24de4916d10c4ae6897b137fb2467d8a",
       "version_major": 2,
       "version_minor": 0
      },
      "text/plain": [
       "HBox(children=(IntProgress(value=0, max=202), HTML(value='')))"
      ]
     },
     "metadata": {},
     "output_type": "display_data"
    },
    {
     "name": "stdout",
     "output_type": "stream",
     "text": [
      "\n"
     ]
    },
    {
     "data": {
      "application/vnd.jupyter.widget-view+json": {
       "model_id": "6990057a913545ecb15162cac5352ec0",
       "version_major": 2,
       "version_minor": 0
      },
      "text/plain": [
       "HBox(children=(IntProgress(value=0, max=202), HTML(value='')))"
      ]
     },
     "metadata": {},
     "output_type": "display_data"
    },
    {
     "name": "stdout",
     "output_type": "stream",
     "text": [
      "\n"
     ]
    },
    {
     "data": {
      "application/vnd.jupyter.widget-view+json": {
       "model_id": "7c0288c89025459b84af3374169a2354",
       "version_major": 2,
       "version_minor": 0
      },
      "text/plain": [
       "HBox(children=(IntProgress(value=0, max=202), HTML(value='')))"
      ]
     },
     "metadata": {},
     "output_type": "display_data"
    },
    {
     "name": "stdout",
     "output_type": "stream",
     "text": [
      "\n"
     ]
    },
    {
     "data": {
      "application/vnd.jupyter.widget-view+json": {
       "model_id": "6ac8b2d61fea4e8f8c46635636fe5f8b",
       "version_major": 2,
       "version_minor": 0
      },
      "text/plain": [
       "HBox(children=(IntProgress(value=0, max=202), HTML(value='')))"
      ]
     },
     "metadata": {},
     "output_type": "display_data"
    },
    {
     "name": "stdout",
     "output_type": "stream",
     "text": [
      "\n"
     ]
    },
    {
     "data": {
      "application/vnd.jupyter.widget-view+json": {
       "model_id": "abb9db381d6b41a998361e0177d816bc",
       "version_major": 2,
       "version_minor": 0
      },
      "text/plain": [
       "HBox(children=(IntProgress(value=0, max=202), HTML(value='')))"
      ]
     },
     "metadata": {},
     "output_type": "display_data"
    },
    {
     "name": "stdout",
     "output_type": "stream",
     "text": [
      "\n"
     ]
    },
    {
     "data": {
      "application/vnd.jupyter.widget-view+json": {
       "model_id": "8878307c8708434594adb96842bc4700",
       "version_major": 2,
       "version_minor": 0
      },
      "text/plain": [
       "HBox(children=(IntProgress(value=0, max=202), HTML(value='')))"
      ]
     },
     "metadata": {},
     "output_type": "display_data"
    },
    {
     "name": "stdout",
     "output_type": "stream",
     "text": [
      "\n"
     ]
    },
    {
     "data": {
      "application/vnd.jupyter.widget-view+json": {
       "model_id": "7e6d3c9fedb04d3fbcfefa430a8bee7b",
       "version_major": 2,
       "version_minor": 0
      },
      "text/plain": [
       "HBox(children=(IntProgress(value=0, max=202), HTML(value='')))"
      ]
     },
     "metadata": {},
     "output_type": "display_data"
    },
    {
     "name": "stdout",
     "output_type": "stream",
     "text": [
      "\n"
     ]
    },
    {
     "data": {
      "application/vnd.jupyter.widget-view+json": {
       "model_id": "2764ff62fc864e66b7580e018c7180fc",
       "version_major": 2,
       "version_minor": 0
      },
      "text/plain": [
       "HBox(children=(IntProgress(value=0, max=202), HTML(value='')))"
      ]
     },
     "metadata": {},
     "output_type": "display_data"
    },
    {
     "name": "stdout",
     "output_type": "stream",
     "text": [
      "\n"
     ]
    },
    {
     "data": {
      "application/vnd.jupyter.widget-view+json": {
       "model_id": "a60b9efb7ced4fd78ce81e742c4ae9c4",
       "version_major": 2,
       "version_minor": 0
      },
      "text/plain": [
       "HBox(children=(IntProgress(value=0, max=202), HTML(value='')))"
      ]
     },
     "metadata": {},
     "output_type": "display_data"
    },
    {
     "name": "stdout",
     "output_type": "stream",
     "text": [
      "\n"
     ]
    },
    {
     "data": {
      "application/vnd.jupyter.widget-view+json": {
       "model_id": "bf11e8b9472340c5b13484fc02abf069",
       "version_major": 2,
       "version_minor": 0
      },
      "text/plain": [
       "HBox(children=(IntProgress(value=0, max=202), HTML(value='')))"
      ]
     },
     "metadata": {},
     "output_type": "display_data"
    },
    {
     "name": "stdout",
     "output_type": "stream",
     "text": [
      "\n"
     ]
    },
    {
     "data": {
      "application/vnd.jupyter.widget-view+json": {
       "model_id": "2250db72e7a448d08c47b333b0b7e86a",
       "version_major": 2,
       "version_minor": 0
      },
      "text/plain": [
       "HBox(children=(IntProgress(value=0, max=202), HTML(value='')))"
      ]
     },
     "metadata": {},
     "output_type": "display_data"
    },
    {
     "name": "stdout",
     "output_type": "stream",
     "text": [
      "\n"
     ]
    },
    {
     "data": {
      "application/vnd.jupyter.widget-view+json": {
       "model_id": "480a4d68ef704ab5bb2b5392d37dcd9b",
       "version_major": 2,
       "version_minor": 0
      },
      "text/plain": [
       "HBox(children=(IntProgress(value=0, max=202), HTML(value='')))"
      ]
     },
     "metadata": {},
     "output_type": "display_data"
    },
    {
     "name": "stdout",
     "output_type": "stream",
     "text": [
      "\n"
     ]
    },
    {
     "data": {
      "application/vnd.jupyter.widget-view+json": {
       "model_id": "031c6ed779364907a9093d12985e22b0",
       "version_major": 2,
       "version_minor": 0
      },
      "text/plain": [
       "HBox(children=(IntProgress(value=0, max=202), HTML(value='')))"
      ]
     },
     "metadata": {},
     "output_type": "display_data"
    },
    {
     "name": "stdout",
     "output_type": "stream",
     "text": [
      "\n"
     ]
    },
    {
     "data": {
      "application/vnd.jupyter.widget-view+json": {
       "model_id": "82fa3c12ffd146b382a40d8bf4b6040b",
       "version_major": 2,
       "version_minor": 0
      },
      "text/plain": [
       "HBox(children=(IntProgress(value=0, max=202), HTML(value='')))"
      ]
     },
     "metadata": {},
     "output_type": "display_data"
    },
    {
     "name": "stdout",
     "output_type": "stream",
     "text": [
      "\n"
     ]
    },
    {
     "data": {
      "application/vnd.jupyter.widget-view+json": {
       "model_id": "ac8fd857c5324f139aa2135b04de32a4",
       "version_major": 2,
       "version_minor": 0
      },
      "text/plain": [
       "HBox(children=(IntProgress(value=0, max=202), HTML(value='')))"
      ]
     },
     "metadata": {},
     "output_type": "display_data"
    },
    {
     "name": "stdout",
     "output_type": "stream",
     "text": [
      "\n"
     ]
    },
    {
     "data": {
      "application/vnd.jupyter.widget-view+json": {
       "model_id": "2263e98cfcd34f94b4e16b14b4f551c2",
       "version_major": 2,
       "version_minor": 0
      },
      "text/plain": [
       "HBox(children=(IntProgress(value=0, max=202), HTML(value='')))"
      ]
     },
     "metadata": {},
     "output_type": "display_data"
    },
    {
     "name": "stdout",
     "output_type": "stream",
     "text": [
      "\n"
     ]
    },
    {
     "data": {
      "application/vnd.jupyter.widget-view+json": {
       "model_id": "38f892b093104db5948fb8662ebfd4d4",
       "version_major": 2,
       "version_minor": 0
      },
      "text/plain": [
       "HBox(children=(IntProgress(value=0, max=202), HTML(value='')))"
      ]
     },
     "metadata": {},
     "output_type": "display_data"
    },
    {
     "name": "stdout",
     "output_type": "stream",
     "text": [
      "\n"
     ]
    },
    {
     "data": {
      "application/vnd.jupyter.widget-view+json": {
       "model_id": "fbb3c90846f44e13aaa7cd0e24d5522a",
       "version_major": 2,
       "version_minor": 0
      },
      "text/plain": [
       "HBox(children=(IntProgress(value=0, max=202), HTML(value='')))"
      ]
     },
     "metadata": {},
     "output_type": "display_data"
    },
    {
     "name": "stdout",
     "output_type": "stream",
     "text": [
      "\n"
     ]
    },
    {
     "data": {
      "application/vnd.jupyter.widget-view+json": {
       "model_id": "3022841e472c4ea9baa681f37f24ce80",
       "version_major": 2,
       "version_minor": 0
      },
      "text/plain": [
       "HBox(children=(IntProgress(value=0, max=202), HTML(value='')))"
      ]
     },
     "metadata": {},
     "output_type": "display_data"
    },
    {
     "name": "stdout",
     "output_type": "stream",
     "text": [
      "\n"
     ]
    },
    {
     "data": {
      "application/vnd.jupyter.widget-view+json": {
       "model_id": "d663038d7c11417fa6d6057ad5a175ef",
       "version_major": 2,
       "version_minor": 0
      },
      "text/plain": [
       "HBox(children=(IntProgress(value=0, max=202), HTML(value='')))"
      ]
     },
     "metadata": {},
     "output_type": "display_data"
    },
    {
     "name": "stdout",
     "output_type": "stream",
     "text": [
      "\n"
     ]
    },
    {
     "data": {
      "application/vnd.jupyter.widget-view+json": {
       "model_id": "30d55f4d80cb4cc59b29a545dbb3c103",
       "version_major": 2,
       "version_minor": 0
      },
      "text/plain": [
       "HBox(children=(IntProgress(value=0, max=202), HTML(value='')))"
      ]
     },
     "metadata": {},
     "output_type": "display_data"
    },
    {
     "name": "stdout",
     "output_type": "stream",
     "text": [
      "\n"
     ]
    },
    {
     "data": {
      "application/vnd.jupyter.widget-view+json": {
       "model_id": "58e61006355d4a47a2c01d27675102e2",
       "version_major": 2,
       "version_minor": 0
      },
      "text/plain": [
       "HBox(children=(IntProgress(value=0, max=202), HTML(value='')))"
      ]
     },
     "metadata": {},
     "output_type": "display_data"
    },
    {
     "name": "stdout",
     "output_type": "stream",
     "text": [
      "\n"
     ]
    },
    {
     "data": {
      "application/vnd.jupyter.widget-view+json": {
       "model_id": "cc86f64c70dd448fa46bc881cacc4fd0",
       "version_major": 2,
       "version_minor": 0
      },
      "text/plain": [
       "HBox(children=(IntProgress(value=0, max=202), HTML(value='')))"
      ]
     },
     "metadata": {},
     "output_type": "display_data"
    },
    {
     "name": "stdout",
     "output_type": "stream",
     "text": [
      "\n"
     ]
    },
    {
     "data": {
      "application/vnd.jupyter.widget-view+json": {
       "model_id": "b590f79eec4c42c1856dc3df86c0548f",
       "version_major": 2,
       "version_minor": 0
      },
      "text/plain": [
       "HBox(children=(IntProgress(value=0, max=202), HTML(value='')))"
      ]
     },
     "metadata": {},
     "output_type": "display_data"
    },
    {
     "name": "stdout",
     "output_type": "stream",
     "text": [
      "\n"
     ]
    },
    {
     "data": {
      "application/vnd.jupyter.widget-view+json": {
       "model_id": "4f8268f5c2c04451a2bf219f7c81a8ee",
       "version_major": 2,
       "version_minor": 0
      },
      "text/plain": [
       "HBox(children=(IntProgress(value=0, max=202), HTML(value='')))"
      ]
     },
     "metadata": {},
     "output_type": "display_data"
    },
    {
     "name": "stdout",
     "output_type": "stream",
     "text": [
      "\n"
     ]
    },
    {
     "data": {
      "application/vnd.jupyter.widget-view+json": {
       "model_id": "777d16a651cc40839517b3297fea5c8a",
       "version_major": 2,
       "version_minor": 0
      },
      "text/plain": [
       "HBox(children=(IntProgress(value=0, max=202), HTML(value='')))"
      ]
     },
     "metadata": {},
     "output_type": "display_data"
    },
    {
     "name": "stdout",
     "output_type": "stream",
     "text": [
      "\n"
     ]
    },
    {
     "data": {
      "application/vnd.jupyter.widget-view+json": {
       "model_id": "2fdb23588e9e49a7b1815b8edc047685",
       "version_major": 2,
       "version_minor": 0
      },
      "text/plain": [
       "HBox(children=(IntProgress(value=0, max=202), HTML(value='')))"
      ]
     },
     "metadata": {},
     "output_type": "display_data"
    },
    {
     "name": "stdout",
     "output_type": "stream",
     "text": [
      "\n"
     ]
    },
    {
     "data": {
      "application/vnd.jupyter.widget-view+json": {
       "model_id": "509a112df0724baa9b945611031fe684",
       "version_major": 2,
       "version_minor": 0
      },
      "text/plain": [
       "HBox(children=(IntProgress(value=0, max=202), HTML(value='')))"
      ]
     },
     "metadata": {},
     "output_type": "display_data"
    },
    {
     "name": "stdout",
     "output_type": "stream",
     "text": [
      "\n"
     ]
    },
    {
     "data": {
      "application/vnd.jupyter.widget-view+json": {
       "model_id": "e6b74249c7e24db2a33683a9cbef17d7",
       "version_major": 2,
       "version_minor": 0
      },
      "text/plain": [
       "HBox(children=(IntProgress(value=0, max=202), HTML(value='')))"
      ]
     },
     "metadata": {},
     "output_type": "display_data"
    },
    {
     "name": "stdout",
     "output_type": "stream",
     "text": [
      "\n"
     ]
    },
    {
     "data": {
      "application/vnd.jupyter.widget-view+json": {
       "model_id": "609318c96ece4d2eae0f99bbd0c55ee8",
       "version_major": 2,
       "version_minor": 0
      },
      "text/plain": [
       "HBox(children=(IntProgress(value=0, max=202), HTML(value='')))"
      ]
     },
     "metadata": {},
     "output_type": "display_data"
    },
    {
     "name": "stdout",
     "output_type": "stream",
     "text": [
      "\n"
     ]
    },
    {
     "data": {
      "application/vnd.jupyter.widget-view+json": {
       "model_id": "9d5abb2712b24be4abf7599d8285e067",
       "version_major": 2,
       "version_minor": 0
      },
      "text/plain": [
       "HBox(children=(IntProgress(value=0, max=202), HTML(value='')))"
      ]
     },
     "metadata": {},
     "output_type": "display_data"
    },
    {
     "name": "stdout",
     "output_type": "stream",
     "text": [
      "\n"
     ]
    },
    {
     "data": {
      "application/vnd.jupyter.widget-view+json": {
       "model_id": "52d4fb04606142f9b0b48de291ddb01b",
       "version_major": 2,
       "version_minor": 0
      },
      "text/plain": [
       "HBox(children=(IntProgress(value=0, max=202), HTML(value='')))"
      ]
     },
     "metadata": {},
     "output_type": "display_data"
    },
    {
     "name": "stdout",
     "output_type": "stream",
     "text": [
      "\n"
     ]
    },
    {
     "data": {
      "application/vnd.jupyter.widget-view+json": {
       "model_id": "682830055ac94108b31f67abd9b0333d",
       "version_major": 2,
       "version_minor": 0
      },
      "text/plain": [
       "HBox(children=(IntProgress(value=0, max=202), HTML(value='')))"
      ]
     },
     "metadata": {},
     "output_type": "display_data"
    },
    {
     "name": "stdout",
     "output_type": "stream",
     "text": [
      "\n"
     ]
    },
    {
     "data": {
      "application/vnd.jupyter.widget-view+json": {
       "model_id": "da12d2f23afa4c589fd8437d6c747db5",
       "version_major": 2,
       "version_minor": 0
      },
      "text/plain": [
       "HBox(children=(IntProgress(value=0, max=202), HTML(value='')))"
      ]
     },
     "metadata": {},
     "output_type": "display_data"
    },
    {
     "name": "stdout",
     "output_type": "stream",
     "text": [
      "\n"
     ]
    },
    {
     "data": {
      "application/vnd.jupyter.widget-view+json": {
       "model_id": "4527d7b2b21c4e9fb1e4a5bfadd6beac",
       "version_major": 2,
       "version_minor": 0
      },
      "text/plain": [
       "HBox(children=(IntProgress(value=0, max=202), HTML(value='')))"
      ]
     },
     "metadata": {},
     "output_type": "display_data"
    },
    {
     "name": "stdout",
     "output_type": "stream",
     "text": [
      "\n"
     ]
    },
    {
     "data": {
      "application/vnd.jupyter.widget-view+json": {
       "model_id": "558fd5bde800481baba0fe800bc81b83",
       "version_major": 2,
       "version_minor": 0
      },
      "text/plain": [
       "HBox(children=(IntProgress(value=0, max=202), HTML(value='')))"
      ]
     },
     "metadata": {},
     "output_type": "display_data"
    },
    {
     "name": "stdout",
     "output_type": "stream",
     "text": [
      "\n"
     ]
    },
    {
     "data": {
      "application/vnd.jupyter.widget-view+json": {
       "model_id": "5ce68d81dcf045da9238c3b28b8d485f",
       "version_major": 2,
       "version_minor": 0
      },
      "text/plain": [
       "HBox(children=(IntProgress(value=0, max=202), HTML(value='')))"
      ]
     },
     "metadata": {},
     "output_type": "display_data"
    },
    {
     "name": "stdout",
     "output_type": "stream",
     "text": [
      "\n"
     ]
    },
    {
     "data": {
      "application/vnd.jupyter.widget-view+json": {
       "model_id": "85e875a27d43476db2d8326076f530b7",
       "version_major": 2,
       "version_minor": 0
      },
      "text/plain": [
       "HBox(children=(IntProgress(value=0, max=202), HTML(value='')))"
      ]
     },
     "metadata": {},
     "output_type": "display_data"
    },
    {
     "name": "stdout",
     "output_type": "stream",
     "text": [
      "\n"
     ]
    },
    {
     "data": {
      "application/vnd.jupyter.widget-view+json": {
       "model_id": "381e24168ff64e9a8290bceacec3752a",
       "version_major": 2,
       "version_minor": 0
      },
      "text/plain": [
       "HBox(children=(IntProgress(value=0, max=202), HTML(value='')))"
      ]
     },
     "metadata": {},
     "output_type": "display_data"
    },
    {
     "name": "stdout",
     "output_type": "stream",
     "text": [
      "\n"
     ]
    },
    {
     "data": {
      "application/vnd.jupyter.widget-view+json": {
       "model_id": "f52bee55ef4e4e819faac4e897f4e592",
       "version_major": 2,
       "version_minor": 0
      },
      "text/plain": [
       "HBox(children=(IntProgress(value=0, max=202), HTML(value='')))"
      ]
     },
     "metadata": {},
     "output_type": "display_data"
    },
    {
     "name": "stdout",
     "output_type": "stream",
     "text": [
      "\n"
     ]
    },
    {
     "data": {
      "application/vnd.jupyter.widget-view+json": {
       "model_id": "4ccc52f142614e4eb8c0afd5e7dd04d3",
       "version_major": 2,
       "version_minor": 0
      },
      "text/plain": [
       "HBox(children=(IntProgress(value=0, max=202), HTML(value='')))"
      ]
     },
     "metadata": {},
     "output_type": "display_data"
    },
    {
     "name": "stdout",
     "output_type": "stream",
     "text": [
      "\n"
     ]
    },
    {
     "data": {
      "application/vnd.jupyter.widget-view+json": {
       "model_id": "a52fb3d51b1c44ac98721dcf18c68a42",
       "version_major": 2,
       "version_minor": 0
      },
      "text/plain": [
       "HBox(children=(IntProgress(value=0, max=202), HTML(value='')))"
      ]
     },
     "metadata": {},
     "output_type": "display_data"
    },
    {
     "name": "stdout",
     "output_type": "stream",
     "text": [
      "\n"
     ]
    },
    {
     "data": {
      "application/vnd.jupyter.widget-view+json": {
       "model_id": "8ee98e98396440f3aa1c29660775a043",
       "version_major": 2,
       "version_minor": 0
      },
      "text/plain": [
       "HBox(children=(IntProgress(value=0, max=202), HTML(value='')))"
      ]
     },
     "metadata": {},
     "output_type": "display_data"
    },
    {
     "name": "stdout",
     "output_type": "stream",
     "text": [
      "\n"
     ]
    },
    {
     "data": {
      "application/vnd.jupyter.widget-view+json": {
       "model_id": "3dbf232c58c9483db9520cad6ddc63e9",
       "version_major": 2,
       "version_minor": 0
      },
      "text/plain": [
       "HBox(children=(IntProgress(value=0, max=202), HTML(value='')))"
      ]
     },
     "metadata": {},
     "output_type": "display_data"
    },
    {
     "name": "stdout",
     "output_type": "stream",
     "text": [
      "\n"
     ]
    },
    {
     "data": {
      "application/vnd.jupyter.widget-view+json": {
       "model_id": "4d0b2e724bb34d7e908d39dbc78f458f",
       "version_major": 2,
       "version_minor": 0
      },
      "text/plain": [
       "HBox(children=(IntProgress(value=0, max=202), HTML(value='')))"
      ]
     },
     "metadata": {},
     "output_type": "display_data"
    },
    {
     "name": "stdout",
     "output_type": "stream",
     "text": [
      "\n"
     ]
    },
    {
     "data": {
      "application/vnd.jupyter.widget-view+json": {
       "model_id": "9094472db16d4c8ea2dbb062d6ea687b",
       "version_major": 2,
       "version_minor": 0
      },
      "text/plain": [
       "HBox(children=(IntProgress(value=0, max=202), HTML(value='')))"
      ]
     },
     "metadata": {},
     "output_type": "display_data"
    },
    {
     "name": "stdout",
     "output_type": "stream",
     "text": [
      "\n"
     ]
    },
    {
     "data": {
      "application/vnd.jupyter.widget-view+json": {
       "model_id": "ea5c6641e8a8442c9779ae589b562ea9",
       "version_major": 2,
       "version_minor": 0
      },
      "text/plain": [
       "HBox(children=(IntProgress(value=0, max=202), HTML(value='')))"
      ]
     },
     "metadata": {},
     "output_type": "display_data"
    },
    {
     "name": "stdout",
     "output_type": "stream",
     "text": [
      "\n"
     ]
    },
    {
     "data": {
      "application/vnd.jupyter.widget-view+json": {
       "model_id": "96416cb2c03f473fa7c9c5a9c251b101",
       "version_major": 2,
       "version_minor": 0
      },
      "text/plain": [
       "HBox(children=(IntProgress(value=0, max=202), HTML(value='')))"
      ]
     },
     "metadata": {},
     "output_type": "display_data"
    },
    {
     "name": "stdout",
     "output_type": "stream",
     "text": [
      "\n"
     ]
    },
    {
     "data": {
      "application/vnd.jupyter.widget-view+json": {
       "model_id": "c9b1e97681a348f0805f83fa14f9b709",
       "version_major": 2,
       "version_minor": 0
      },
      "text/plain": [
       "HBox(children=(IntProgress(value=0, max=202), HTML(value='')))"
      ]
     },
     "metadata": {},
     "output_type": "display_data"
    },
    {
     "name": "stdout",
     "output_type": "stream",
     "text": [
      "\n"
     ]
    },
    {
     "data": {
      "application/vnd.jupyter.widget-view+json": {
       "model_id": "94e9904725d547cd9dfe082c7e97bdbd",
       "version_major": 2,
       "version_minor": 0
      },
      "text/plain": [
       "HBox(children=(IntProgress(value=0, max=202), HTML(value='')))"
      ]
     },
     "metadata": {},
     "output_type": "display_data"
    },
    {
     "name": "stdout",
     "output_type": "stream",
     "text": [
      "\n"
     ]
    },
    {
     "data": {
      "application/vnd.jupyter.widget-view+json": {
       "model_id": "019914a87b954e3aa49d1521ce992429",
       "version_major": 2,
       "version_minor": 0
      },
      "text/plain": [
       "HBox(children=(IntProgress(value=0, max=202), HTML(value='')))"
      ]
     },
     "metadata": {},
     "output_type": "display_data"
    },
    {
     "name": "stdout",
     "output_type": "stream",
     "text": [
      "\n"
     ]
    },
    {
     "data": {
      "application/vnd.jupyter.widget-view+json": {
       "model_id": "04c3f8a5a3954b38be3ef42ae5bcc894",
       "version_major": 2,
       "version_minor": 0
      },
      "text/plain": [
       "HBox(children=(IntProgress(value=0, max=202), HTML(value='')))"
      ]
     },
     "metadata": {},
     "output_type": "display_data"
    },
    {
     "name": "stdout",
     "output_type": "stream",
     "text": [
      "\n"
     ]
    },
    {
     "data": {
      "application/vnd.jupyter.widget-view+json": {
       "model_id": "7b9856e20af44a80b6f1002629ed61e3",
       "version_major": 2,
       "version_minor": 0
      },
      "text/plain": [
       "HBox(children=(IntProgress(value=0, max=202), HTML(value='')))"
      ]
     },
     "metadata": {},
     "output_type": "display_data"
    },
    {
     "name": "stdout",
     "output_type": "stream",
     "text": [
      "\n"
     ]
    },
    {
     "data": {
      "application/vnd.jupyter.widget-view+json": {
       "model_id": "7a1e156d7f55442b89f964c28fdf6122",
       "version_major": 2,
       "version_minor": 0
      },
      "text/plain": [
       "HBox(children=(IntProgress(value=0, max=202), HTML(value='')))"
      ]
     },
     "metadata": {},
     "output_type": "display_data"
    },
    {
     "name": "stdout",
     "output_type": "stream",
     "text": [
      "\n"
     ]
    },
    {
     "data": {
      "application/vnd.jupyter.widget-view+json": {
       "model_id": "7a3818ebfe074e17b7c6dddba376786c",
       "version_major": 2,
       "version_minor": 0
      },
      "text/plain": [
       "HBox(children=(IntProgress(value=0, max=202), HTML(value='')))"
      ]
     },
     "metadata": {},
     "output_type": "display_data"
    },
    {
     "name": "stdout",
     "output_type": "stream",
     "text": [
      "\n"
     ]
    },
    {
     "data": {
      "application/vnd.jupyter.widget-view+json": {
       "model_id": "6d5231f774f04efbabb8787df57b6412",
       "version_major": 2,
       "version_minor": 0
      },
      "text/plain": [
       "HBox(children=(IntProgress(value=0, max=202), HTML(value='')))"
      ]
     },
     "metadata": {},
     "output_type": "display_data"
    },
    {
     "name": "stdout",
     "output_type": "stream",
     "text": [
      "\n"
     ]
    },
    {
     "data": {
      "application/vnd.jupyter.widget-view+json": {
       "model_id": "3c180023e2384c79a5f966e4a03d8d45",
       "version_major": 2,
       "version_minor": 0
      },
      "text/plain": [
       "HBox(children=(IntProgress(value=0, max=202), HTML(value='')))"
      ]
     },
     "metadata": {},
     "output_type": "display_data"
    },
    {
     "name": "stdout",
     "output_type": "stream",
     "text": [
      "\n"
     ]
    },
    {
     "data": {
      "application/vnd.jupyter.widget-view+json": {
       "model_id": "34997b63e7af4f15941196741f68aa59",
       "version_major": 2,
       "version_minor": 0
      },
      "text/plain": [
       "HBox(children=(IntProgress(value=0, max=202), HTML(value='')))"
      ]
     },
     "metadata": {},
     "output_type": "display_data"
    },
    {
     "name": "stdout",
     "output_type": "stream",
     "text": [
      "\n"
     ]
    },
    {
     "data": {
      "application/vnd.jupyter.widget-view+json": {
       "model_id": "ffd3ddf809144653b46ecc2cfad0bdcc",
       "version_major": 2,
       "version_minor": 0
      },
      "text/plain": [
       "HBox(children=(IntProgress(value=0, max=202), HTML(value='')))"
      ]
     },
     "metadata": {},
     "output_type": "display_data"
    },
    {
     "name": "stdout",
     "output_type": "stream",
     "text": [
      "\n"
     ]
    },
    {
     "data": {
      "application/vnd.jupyter.widget-view+json": {
       "model_id": "3678a2f143324ebf9465589984882cf1",
       "version_major": 2,
       "version_minor": 0
      },
      "text/plain": [
       "HBox(children=(IntProgress(value=0, max=202), HTML(value='')))"
      ]
     },
     "metadata": {},
     "output_type": "display_data"
    },
    {
     "name": "stdout",
     "output_type": "stream",
     "text": [
      "\n"
     ]
    },
    {
     "data": {
      "application/vnd.jupyter.widget-view+json": {
       "model_id": "b455831112c24e36a17081808e8676c6",
       "version_major": 2,
       "version_minor": 0
      },
      "text/plain": [
       "HBox(children=(IntProgress(value=0, max=202), HTML(value='')))"
      ]
     },
     "metadata": {},
     "output_type": "display_data"
    },
    {
     "name": "stdout",
     "output_type": "stream",
     "text": [
      "\n"
     ]
    },
    {
     "data": {
      "application/vnd.jupyter.widget-view+json": {
       "model_id": "f4c540e7c7e94af0a4daf7e27738e62f",
       "version_major": 2,
       "version_minor": 0
      },
      "text/plain": [
       "HBox(children=(IntProgress(value=0, max=202), HTML(value='')))"
      ]
     },
     "metadata": {},
     "output_type": "display_data"
    },
    {
     "name": "stdout",
     "output_type": "stream",
     "text": [
      "\n"
     ]
    },
    {
     "data": {
      "application/vnd.jupyter.widget-view+json": {
       "model_id": "571781e6877e46aa98f3a0de4664eece",
       "version_major": 2,
       "version_minor": 0
      },
      "text/plain": [
       "HBox(children=(IntProgress(value=0, max=202), HTML(value='')))"
      ]
     },
     "metadata": {},
     "output_type": "display_data"
    },
    {
     "name": "stdout",
     "output_type": "stream",
     "text": [
      "\n"
     ]
    },
    {
     "data": {
      "application/vnd.jupyter.widget-view+json": {
       "model_id": "90a8ed2d7d4e47eeb5e10380bb666e60",
       "version_major": 2,
       "version_minor": 0
      },
      "text/plain": [
       "HBox(children=(IntProgress(value=0, max=202), HTML(value='')))"
      ]
     },
     "metadata": {},
     "output_type": "display_data"
    },
    {
     "name": "stdout",
     "output_type": "stream",
     "text": [
      "\n"
     ]
    },
    {
     "data": {
      "application/vnd.jupyter.widget-view+json": {
       "model_id": "08635e3035004c59815ad5ffd3bbcebf",
       "version_major": 2,
       "version_minor": 0
      },
      "text/plain": [
       "HBox(children=(IntProgress(value=0, max=202), HTML(value='')))"
      ]
     },
     "metadata": {},
     "output_type": "display_data"
    },
    {
     "name": "stdout",
     "output_type": "stream",
     "text": [
      "\n"
     ]
    },
    {
     "data": {
      "application/vnd.jupyter.widget-view+json": {
       "model_id": "eef1815b28e54d68a7a7da041630de0b",
       "version_major": 2,
       "version_minor": 0
      },
      "text/plain": [
       "HBox(children=(IntProgress(value=0, max=202), HTML(value='')))"
      ]
     },
     "metadata": {},
     "output_type": "display_data"
    },
    {
     "name": "stdout",
     "output_type": "stream",
     "text": [
      "\n"
     ]
    },
    {
     "data": {
      "application/vnd.jupyter.widget-view+json": {
       "model_id": "5128cb1051ee4d7ca54b13fc14185e0f",
       "version_major": 2,
       "version_minor": 0
      },
      "text/plain": [
       "HBox(children=(IntProgress(value=0, max=202), HTML(value='')))"
      ]
     },
     "metadata": {},
     "output_type": "display_data"
    },
    {
     "name": "stdout",
     "output_type": "stream",
     "text": [
      "\n"
     ]
    },
    {
     "data": {
      "application/vnd.jupyter.widget-view+json": {
       "model_id": "d16d4bbb90294f57819749a91a918b8a",
       "version_major": 2,
       "version_minor": 0
      },
      "text/plain": [
       "HBox(children=(IntProgress(value=0, max=202), HTML(value='')))"
      ]
     },
     "metadata": {},
     "output_type": "display_data"
    },
    {
     "name": "stdout",
     "output_type": "stream",
     "text": [
      "\n"
     ]
    },
    {
     "data": {
      "application/vnd.jupyter.widget-view+json": {
       "model_id": "5a2b76dee77f4848a4237b1c6712fd7f",
       "version_major": 2,
       "version_minor": 0
      },
      "text/plain": [
       "HBox(children=(IntProgress(value=0, max=202), HTML(value='')))"
      ]
     },
     "metadata": {},
     "output_type": "display_data"
    },
    {
     "name": "stdout",
     "output_type": "stream",
     "text": [
      "\n"
     ]
    },
    {
     "data": {
      "application/vnd.jupyter.widget-view+json": {
       "model_id": "b3663ca6223f412eb68158623f25acf2",
       "version_major": 2,
       "version_minor": 0
      },
      "text/plain": [
       "HBox(children=(IntProgress(value=0, max=202), HTML(value='')))"
      ]
     },
     "metadata": {},
     "output_type": "display_data"
    },
    {
     "name": "stdout",
     "output_type": "stream",
     "text": [
      "\n"
     ]
    },
    {
     "data": {
      "application/vnd.jupyter.widget-view+json": {
       "model_id": "fa8af4e9038f46e3967edc4daaade5dc",
       "version_major": 2,
       "version_minor": 0
      },
      "text/plain": [
       "HBox(children=(IntProgress(value=0, max=202), HTML(value='')))"
      ]
     },
     "metadata": {},
     "output_type": "display_data"
    },
    {
     "name": "stdout",
     "output_type": "stream",
     "text": [
      "\n"
     ]
    },
    {
     "data": {
      "application/vnd.jupyter.widget-view+json": {
       "model_id": "586cd7951c5b448392963525c675dcaf",
       "version_major": 2,
       "version_minor": 0
      },
      "text/plain": [
       "HBox(children=(IntProgress(value=0, max=202), HTML(value='')))"
      ]
     },
     "metadata": {},
     "output_type": "display_data"
    },
    {
     "name": "stdout",
     "output_type": "stream",
     "text": [
      "\n"
     ]
    },
    {
     "data": {
      "application/vnd.jupyter.widget-view+json": {
       "model_id": "f0c850fb9fc5443f93388e6c36da1181",
       "version_major": 2,
       "version_minor": 0
      },
      "text/plain": [
       "HBox(children=(IntProgress(value=0, max=202), HTML(value='')))"
      ]
     },
     "metadata": {},
     "output_type": "display_data"
    },
    {
     "name": "stdout",
     "output_type": "stream",
     "text": [
      "\n"
     ]
    },
    {
     "data": {
      "application/vnd.jupyter.widget-view+json": {
       "model_id": "46832218d7ea422c836ed2df94e620c3",
       "version_major": 2,
       "version_minor": 0
      },
      "text/plain": [
       "HBox(children=(IntProgress(value=0, max=202), HTML(value='')))"
      ]
     },
     "metadata": {},
     "output_type": "display_data"
    },
    {
     "name": "stdout",
     "output_type": "stream",
     "text": [
      "\n"
     ]
    },
    {
     "data": {
      "application/vnd.jupyter.widget-view+json": {
       "model_id": "f57cf7651cfb48b8b653bf416e0812e7",
       "version_major": 2,
       "version_minor": 0
      },
      "text/plain": [
       "HBox(children=(IntProgress(value=0, max=202), HTML(value='')))"
      ]
     },
     "metadata": {},
     "output_type": "display_data"
    },
    {
     "name": "stdout",
     "output_type": "stream",
     "text": [
      "\n"
     ]
    },
    {
     "data": {
      "application/vnd.jupyter.widget-view+json": {
       "model_id": "9b148c5c7dd44109bb8a4af6fa64ca96",
       "version_major": 2,
       "version_minor": 0
      },
      "text/plain": [
       "HBox(children=(IntProgress(value=0, max=202), HTML(value='')))"
      ]
     },
     "metadata": {},
     "output_type": "display_data"
    },
    {
     "name": "stdout",
     "output_type": "stream",
     "text": [
      "\n"
     ]
    },
    {
     "data": {
      "application/vnd.jupyter.widget-view+json": {
       "model_id": "5bcd98a7c12b459abf9c21012a3c9e89",
       "version_major": 2,
       "version_minor": 0
      },
      "text/plain": [
       "HBox(children=(IntProgress(value=0, max=202), HTML(value='')))"
      ]
     },
     "metadata": {},
     "output_type": "display_data"
    },
    {
     "name": "stdout",
     "output_type": "stream",
     "text": [
      "\n"
     ]
    },
    {
     "data": {
      "application/vnd.jupyter.widget-view+json": {
       "model_id": "5e900f251ca242929e9afc1692766ee8",
       "version_major": 2,
       "version_minor": 0
      },
      "text/plain": [
       "HBox(children=(IntProgress(value=0, max=202), HTML(value='')))"
      ]
     },
     "metadata": {},
     "output_type": "display_data"
    },
    {
     "name": "stdout",
     "output_type": "stream",
     "text": [
      "\n"
     ]
    },
    {
     "data": {
      "application/vnd.jupyter.widget-view+json": {
       "model_id": "1823b4e2abb04d119a9ebd04141d6207",
       "version_major": 2,
       "version_minor": 0
      },
      "text/plain": [
       "HBox(children=(IntProgress(value=0, max=202), HTML(value='')))"
      ]
     },
     "metadata": {},
     "output_type": "display_data"
    },
    {
     "name": "stdout",
     "output_type": "stream",
     "text": [
      "\n"
     ]
    },
    {
     "data": {
      "application/vnd.jupyter.widget-view+json": {
       "model_id": "d32b3a1fd9664fd49216c38eeb220a51",
       "version_major": 2,
       "version_minor": 0
      },
      "text/plain": [
       "HBox(children=(IntProgress(value=0, max=202), HTML(value='')))"
      ]
     },
     "metadata": {},
     "output_type": "display_data"
    },
    {
     "name": "stdout",
     "output_type": "stream",
     "text": [
      "\n"
     ]
    },
    {
     "data": {
      "application/vnd.jupyter.widget-view+json": {
       "model_id": "4a2a9e43438b460c8129bbfbc6fdea16",
       "version_major": 2,
       "version_minor": 0
      },
      "text/plain": [
       "HBox(children=(IntProgress(value=0, max=202), HTML(value='')))"
      ]
     },
     "metadata": {},
     "output_type": "display_data"
    },
    {
     "name": "stdout",
     "output_type": "stream",
     "text": [
      "\n"
     ]
    },
    {
     "data": {
      "application/vnd.jupyter.widget-view+json": {
       "model_id": "6d5c22db2c4040aa8a7056691353ad00",
       "version_major": 2,
       "version_minor": 0
      },
      "text/plain": [
       "HBox(children=(IntProgress(value=0, max=202), HTML(value='')))"
      ]
     },
     "metadata": {},
     "output_type": "display_data"
    },
    {
     "name": "stdout",
     "output_type": "stream",
     "text": [
      "\n"
     ]
    },
    {
     "data": {
      "application/vnd.jupyter.widget-view+json": {
       "model_id": "7313aa7f93df4c8b8b74af87c0ac392a",
       "version_major": 2,
       "version_minor": 0
      },
      "text/plain": [
       "HBox(children=(IntProgress(value=0, max=202), HTML(value='')))"
      ]
     },
     "metadata": {},
     "output_type": "display_data"
    },
    {
     "name": "stdout",
     "output_type": "stream",
     "text": [
      "\n"
     ]
    },
    {
     "data": {
      "application/vnd.jupyter.widget-view+json": {
       "model_id": "12867c3fb1044d1a84ce4956cedf016e",
       "version_major": 2,
       "version_minor": 0
      },
      "text/plain": [
       "HBox(children=(IntProgress(value=0, max=202), HTML(value='')))"
      ]
     },
     "metadata": {},
     "output_type": "display_data"
    },
    {
     "name": "stdout",
     "output_type": "stream",
     "text": [
      "\n"
     ]
    },
    {
     "data": {
      "application/vnd.jupyter.widget-view+json": {
       "model_id": "be477a38d9fe48938796f009a778275c",
       "version_major": 2,
       "version_minor": 0
      },
      "text/plain": [
       "HBox(children=(IntProgress(value=0, max=202), HTML(value='')))"
      ]
     },
     "metadata": {},
     "output_type": "display_data"
    },
    {
     "name": "stdout",
     "output_type": "stream",
     "text": [
      "\n"
     ]
    },
    {
     "data": {
      "application/vnd.jupyter.widget-view+json": {
       "model_id": "45866af66715426892f5c66031b9cbb3",
       "version_major": 2,
       "version_minor": 0
      },
      "text/plain": [
       "HBox(children=(IntProgress(value=0, max=202), HTML(value='')))"
      ]
     },
     "metadata": {},
     "output_type": "display_data"
    },
    {
     "name": "stdout",
     "output_type": "stream",
     "text": [
      "\n"
     ]
    },
    {
     "data": {
      "application/vnd.jupyter.widget-view+json": {
       "model_id": "98ac574500a54549a5325c061386b32d",
       "version_major": 2,
       "version_minor": 0
      },
      "text/plain": [
       "HBox(children=(IntProgress(value=0, max=202), HTML(value='')))"
      ]
     },
     "metadata": {},
     "output_type": "display_data"
    },
    {
     "name": "stdout",
     "output_type": "stream",
     "text": [
      "\n"
     ]
    },
    {
     "data": {
      "application/vnd.jupyter.widget-view+json": {
       "model_id": "1c2b9f80c8f94985b103d58ff45b49fe",
       "version_major": 2,
       "version_minor": 0
      },
      "text/plain": [
       "HBox(children=(IntProgress(value=0, max=202), HTML(value='')))"
      ]
     },
     "metadata": {},
     "output_type": "display_data"
    },
    {
     "name": "stdout",
     "output_type": "stream",
     "text": [
      "\n"
     ]
    },
    {
     "data": {
      "application/vnd.jupyter.widget-view+json": {
       "model_id": "90c4d2b46281451e944841dc8cfe6aac",
       "version_major": 2,
       "version_minor": 0
      },
      "text/plain": [
       "HBox(children=(IntProgress(value=0, max=202), HTML(value='')))"
      ]
     },
     "metadata": {},
     "output_type": "display_data"
    },
    {
     "name": "stdout",
     "output_type": "stream",
     "text": [
      "\n"
     ]
    },
    {
     "data": {
      "application/vnd.jupyter.widget-view+json": {
       "model_id": "6ed06b54e3ba46bcaf5e83374d6a8519",
       "version_major": 2,
       "version_minor": 0
      },
      "text/plain": [
       "HBox(children=(IntProgress(value=0, max=202), HTML(value='')))"
      ]
     },
     "metadata": {},
     "output_type": "display_data"
    },
    {
     "name": "stdout",
     "output_type": "stream",
     "text": [
      "\n"
     ]
    },
    {
     "data": {
      "application/vnd.jupyter.widget-view+json": {
       "model_id": "6dcaaf5186724386807942b8a8d65995",
       "version_major": 2,
       "version_minor": 0
      },
      "text/plain": [
       "HBox(children=(IntProgress(value=0, max=202), HTML(value='')))"
      ]
     },
     "metadata": {},
     "output_type": "display_data"
    },
    {
     "name": "stdout",
     "output_type": "stream",
     "text": [
      "\n"
     ]
    },
    {
     "data": {
      "application/vnd.jupyter.widget-view+json": {
       "model_id": "4eca0030784840049f0e31a6ae741cfe",
       "version_major": 2,
       "version_minor": 0
      },
      "text/plain": [
       "HBox(children=(IntProgress(value=0, max=202), HTML(value='')))"
      ]
     },
     "metadata": {},
     "output_type": "display_data"
    },
    {
     "name": "stdout",
     "output_type": "stream",
     "text": [
      "\n"
     ]
    },
    {
     "data": {
      "application/vnd.jupyter.widget-view+json": {
       "model_id": "31940ed034d042a5b98b117bfb3d8b09",
       "version_major": 2,
       "version_minor": 0
      },
      "text/plain": [
       "HBox(children=(IntProgress(value=0, max=202), HTML(value='')))"
      ]
     },
     "metadata": {},
     "output_type": "display_data"
    },
    {
     "name": "stdout",
     "output_type": "stream",
     "text": [
      "\n"
     ]
    },
    {
     "data": {
      "application/vnd.jupyter.widget-view+json": {
       "model_id": "100e08ecc1874c8b9b09900a5cd5362f",
       "version_major": 2,
       "version_minor": 0
      },
      "text/plain": [
       "HBox(children=(IntProgress(value=0, max=202), HTML(value='')))"
      ]
     },
     "metadata": {},
     "output_type": "display_data"
    },
    {
     "name": "stdout",
     "output_type": "stream",
     "text": [
      "\n"
     ]
    },
    {
     "data": {
      "application/vnd.jupyter.widget-view+json": {
       "model_id": "14d024d4f7ac4aca81b50bd586e80200",
       "version_major": 2,
       "version_minor": 0
      },
      "text/plain": [
       "HBox(children=(IntProgress(value=0, max=202), HTML(value='')))"
      ]
     },
     "metadata": {},
     "output_type": "display_data"
    },
    {
     "name": "stdout",
     "output_type": "stream",
     "text": [
      "\n"
     ]
    },
    {
     "data": {
      "application/vnd.jupyter.widget-view+json": {
       "model_id": "04e39ab6334c4e15a75592a6f4a1b546",
       "version_major": 2,
       "version_minor": 0
      },
      "text/plain": [
       "HBox(children=(IntProgress(value=0, max=202), HTML(value='')))"
      ]
     },
     "metadata": {},
     "output_type": "display_data"
    },
    {
     "name": "stdout",
     "output_type": "stream",
     "text": [
      "\n"
     ]
    },
    {
     "data": {
      "application/vnd.jupyter.widget-view+json": {
       "model_id": "494c5dc32beb44918c4a66fbc59e00c8",
       "version_major": 2,
       "version_minor": 0
      },
      "text/plain": [
       "HBox(children=(IntProgress(value=0, max=202), HTML(value='')))"
      ]
     },
     "metadata": {},
     "output_type": "display_data"
    },
    {
     "name": "stdout",
     "output_type": "stream",
     "text": [
      "\n"
     ]
    },
    {
     "data": {
      "application/vnd.jupyter.widget-view+json": {
       "model_id": "2479d5d5465d46a9b4d54dca43968ca8",
       "version_major": 2,
       "version_minor": 0
      },
      "text/plain": [
       "HBox(children=(IntProgress(value=0, max=202), HTML(value='')))"
      ]
     },
     "metadata": {},
     "output_type": "display_data"
    },
    {
     "name": "stdout",
     "output_type": "stream",
     "text": [
      "\n"
     ]
    },
    {
     "data": {
      "application/vnd.jupyter.widget-view+json": {
       "model_id": "fe73dfb20a974958922d406554cb3db4",
       "version_major": 2,
       "version_minor": 0
      },
      "text/plain": [
       "HBox(children=(IntProgress(value=0, max=202), HTML(value='')))"
      ]
     },
     "metadata": {},
     "output_type": "display_data"
    },
    {
     "name": "stdout",
     "output_type": "stream",
     "text": [
      "\n"
     ]
    },
    {
     "data": {
      "application/vnd.jupyter.widget-view+json": {
       "model_id": "fabf0c3a41d147ed8599257ef81837f5",
       "version_major": 2,
       "version_minor": 0
      },
      "text/plain": [
       "HBox(children=(IntProgress(value=0, max=202), HTML(value='')))"
      ]
     },
     "metadata": {},
     "output_type": "display_data"
    },
    {
     "name": "stdout",
     "output_type": "stream",
     "text": [
      "\n"
     ]
    },
    {
     "data": {
      "application/vnd.jupyter.widget-view+json": {
       "model_id": "7d47c4f396f947c09f4dfc0cd332eb68",
       "version_major": 2,
       "version_minor": 0
      },
      "text/plain": [
       "HBox(children=(IntProgress(value=0, max=202), HTML(value='')))"
      ]
     },
     "metadata": {},
     "output_type": "display_data"
    },
    {
     "name": "stdout",
     "output_type": "stream",
     "text": [
      "\n"
     ]
    },
    {
     "data": {
      "application/vnd.jupyter.widget-view+json": {
       "model_id": "e93cc61f6e81490fb547972770619b9d",
       "version_major": 2,
       "version_minor": 0
      },
      "text/plain": [
       "HBox(children=(IntProgress(value=0, max=202), HTML(value='')))"
      ]
     },
     "metadata": {},
     "output_type": "display_data"
    },
    {
     "name": "stdout",
     "output_type": "stream",
     "text": [
      "\n"
     ]
    },
    {
     "data": {
      "application/vnd.jupyter.widget-view+json": {
       "model_id": "851e9b6afc7444229231b2f91ab3f67a",
       "version_major": 2,
       "version_minor": 0
      },
      "text/plain": [
       "HBox(children=(IntProgress(value=0, max=202), HTML(value='')))"
      ]
     },
     "metadata": {},
     "output_type": "display_data"
    },
    {
     "name": "stdout",
     "output_type": "stream",
     "text": [
      "\n"
     ]
    },
    {
     "data": {
      "application/vnd.jupyter.widget-view+json": {
       "model_id": "4fdf6bbaf94f4f47bd1fc9e4babfdb28",
       "version_major": 2,
       "version_minor": 0
      },
      "text/plain": [
       "HBox(children=(IntProgress(value=0, max=202), HTML(value='')))"
      ]
     },
     "metadata": {},
     "output_type": "display_data"
    },
    {
     "name": "stdout",
     "output_type": "stream",
     "text": [
      "\n"
     ]
    },
    {
     "data": {
      "application/vnd.jupyter.widget-view+json": {
       "model_id": "25affc63102342b9b1f697797fad0391",
       "version_major": 2,
       "version_minor": 0
      },
      "text/plain": [
       "HBox(children=(IntProgress(value=0, max=202), HTML(value='')))"
      ]
     },
     "metadata": {},
     "output_type": "display_data"
    },
    {
     "name": "stdout",
     "output_type": "stream",
     "text": [
      "\n"
     ]
    },
    {
     "data": {
      "application/vnd.jupyter.widget-view+json": {
       "model_id": "e39a7d8223a2482c91a6f1d7c16b17f8",
       "version_major": 2,
       "version_minor": 0
      },
      "text/plain": [
       "HBox(children=(IntProgress(value=0, max=202), HTML(value='')))"
      ]
     },
     "metadata": {},
     "output_type": "display_data"
    },
    {
     "name": "stdout",
     "output_type": "stream",
     "text": [
      "\n"
     ]
    },
    {
     "data": {
      "application/vnd.jupyter.widget-view+json": {
       "model_id": "c9359219e0ae45c39f11cde6eb807b25",
       "version_major": 2,
       "version_minor": 0
      },
      "text/plain": [
       "HBox(children=(IntProgress(value=0, max=202), HTML(value='')))"
      ]
     },
     "metadata": {},
     "output_type": "display_data"
    },
    {
     "name": "stdout",
     "output_type": "stream",
     "text": [
      "\n"
     ]
    },
    {
     "data": {
      "application/vnd.jupyter.widget-view+json": {
       "model_id": "7372b3b218554f9abd04162379fda2c6",
       "version_major": 2,
       "version_minor": 0
      },
      "text/plain": [
       "HBox(children=(IntProgress(value=0, max=202), HTML(value='')))"
      ]
     },
     "metadata": {},
     "output_type": "display_data"
    },
    {
     "name": "stdout",
     "output_type": "stream",
     "text": [
      "\n"
     ]
    },
    {
     "data": {
      "application/vnd.jupyter.widget-view+json": {
       "model_id": "50cfbd624f6c4ea0a6c750ac5606253c",
       "version_major": 2,
       "version_minor": 0
      },
      "text/plain": [
       "HBox(children=(IntProgress(value=0, max=202), HTML(value='')))"
      ]
     },
     "metadata": {},
     "output_type": "display_data"
    },
    {
     "name": "stdout",
     "output_type": "stream",
     "text": [
      "\n"
     ]
    },
    {
     "data": {
      "application/vnd.jupyter.widget-view+json": {
       "model_id": "766b6eb09c7449e8a1e2de9bf14bc2a0",
       "version_major": 2,
       "version_minor": 0
      },
      "text/plain": [
       "HBox(children=(IntProgress(value=0, max=202), HTML(value='')))"
      ]
     },
     "metadata": {},
     "output_type": "display_data"
    },
    {
     "name": "stdout",
     "output_type": "stream",
     "text": [
      "\n"
     ]
    },
    {
     "data": {
      "application/vnd.jupyter.widget-view+json": {
       "model_id": "490b0a1c2bb74ed69d3b605a4583f253",
       "version_major": 2,
       "version_minor": 0
      },
      "text/plain": [
       "HBox(children=(IntProgress(value=0, max=202), HTML(value='')))"
      ]
     },
     "metadata": {},
     "output_type": "display_data"
    },
    {
     "name": "stdout",
     "output_type": "stream",
     "text": [
      "\n"
     ]
    },
    {
     "data": {
      "application/vnd.jupyter.widget-view+json": {
       "model_id": "6179699b35614d699e47a816f00f3ae2",
       "version_major": 2,
       "version_minor": 0
      },
      "text/plain": [
       "HBox(children=(IntProgress(value=0, max=202), HTML(value='')))"
      ]
     },
     "metadata": {},
     "output_type": "display_data"
    },
    {
     "name": "stdout",
     "output_type": "stream",
     "text": [
      "\n"
     ]
    },
    {
     "data": {
      "application/vnd.jupyter.widget-view+json": {
       "model_id": "0602b6192d56419ba58648be1691a23f",
       "version_major": 2,
       "version_minor": 0
      },
      "text/plain": [
       "HBox(children=(IntProgress(value=0, max=202), HTML(value='')))"
      ]
     },
     "metadata": {},
     "output_type": "display_data"
    },
    {
     "name": "stdout",
     "output_type": "stream",
     "text": [
      "\n"
     ]
    },
    {
     "data": {
      "application/vnd.jupyter.widget-view+json": {
       "model_id": "05fe56142a3f4174938124f7e3a7bd93",
       "version_major": 2,
       "version_minor": 0
      },
      "text/plain": [
       "HBox(children=(IntProgress(value=0, max=202), HTML(value='')))"
      ]
     },
     "metadata": {},
     "output_type": "display_data"
    },
    {
     "name": "stdout",
     "output_type": "stream",
     "text": [
      "\n"
     ]
    },
    {
     "data": {
      "application/vnd.jupyter.widget-view+json": {
       "model_id": "ccb1425ef999477f9e0773f6c530773f",
       "version_major": 2,
       "version_minor": 0
      },
      "text/plain": [
       "HBox(children=(IntProgress(value=0, max=202), HTML(value='')))"
      ]
     },
     "metadata": {},
     "output_type": "display_data"
    },
    {
     "name": "stdout",
     "output_type": "stream",
     "text": [
      "\n"
     ]
    },
    {
     "data": {
      "application/vnd.jupyter.widget-view+json": {
       "model_id": "53be695be9e649b6a77cafd1bb2173e4",
       "version_major": 2,
       "version_minor": 0
      },
      "text/plain": [
       "HBox(children=(IntProgress(value=0, max=202), HTML(value='')))"
      ]
     },
     "metadata": {},
     "output_type": "display_data"
    },
    {
     "name": "stdout",
     "output_type": "stream",
     "text": [
      "\n"
     ]
    },
    {
     "data": {
      "application/vnd.jupyter.widget-view+json": {
       "model_id": "cbb5114bc3f74956b5218e4db0551102",
       "version_major": 2,
       "version_minor": 0
      },
      "text/plain": [
       "HBox(children=(IntProgress(value=0, max=202), HTML(value='')))"
      ]
     },
     "metadata": {},
     "output_type": "display_data"
    },
    {
     "name": "stdout",
     "output_type": "stream",
     "text": [
      "\n"
     ]
    },
    {
     "data": {
      "application/vnd.jupyter.widget-view+json": {
       "model_id": "142176a5141c40f7af8b4217c227fddf",
       "version_major": 2,
       "version_minor": 0
      },
      "text/plain": [
       "HBox(children=(IntProgress(value=0, max=202), HTML(value='')))"
      ]
     },
     "metadata": {},
     "output_type": "display_data"
    },
    {
     "name": "stdout",
     "output_type": "stream",
     "text": [
      "\n"
     ]
    },
    {
     "data": {
      "application/vnd.jupyter.widget-view+json": {
       "model_id": "476a1b903bb74061a4fd9e2aa13c2202",
       "version_major": 2,
       "version_minor": 0
      },
      "text/plain": [
       "HBox(children=(IntProgress(value=0, max=202), HTML(value='')))"
      ]
     },
     "metadata": {},
     "output_type": "display_data"
    },
    {
     "name": "stdout",
     "output_type": "stream",
     "text": [
      "\n"
     ]
    },
    {
     "data": {
      "application/vnd.jupyter.widget-view+json": {
       "model_id": "d5b5670d60314bcd9bb9401e2dbc4e81",
       "version_major": 2,
       "version_minor": 0
      },
      "text/plain": [
       "HBox(children=(IntProgress(value=0, max=202), HTML(value='')))"
      ]
     },
     "metadata": {},
     "output_type": "display_data"
    },
    {
     "name": "stdout",
     "output_type": "stream",
     "text": [
      "\n"
     ]
    },
    {
     "data": {
      "application/vnd.jupyter.widget-view+json": {
       "model_id": "426ce7d35dbe45bb8ddb3dcf61b6be08",
       "version_major": 2,
       "version_minor": 0
      },
      "text/plain": [
       "HBox(children=(IntProgress(value=0, max=202), HTML(value='')))"
      ]
     },
     "metadata": {},
     "output_type": "display_data"
    },
    {
     "name": "stdout",
     "output_type": "stream",
     "text": [
      "\n"
     ]
    },
    {
     "data": {
      "application/vnd.jupyter.widget-view+json": {
       "model_id": "1b6a21916b43442e8773871be3306b44",
       "version_major": 2,
       "version_minor": 0
      },
      "text/plain": [
       "HBox(children=(IntProgress(value=0, max=202), HTML(value='')))"
      ]
     },
     "metadata": {},
     "output_type": "display_data"
    },
    {
     "name": "stdout",
     "output_type": "stream",
     "text": [
      "\n"
     ]
    },
    {
     "data": {
      "application/vnd.jupyter.widget-view+json": {
       "model_id": "ae00e7b249a84b35b964914fe6973f15",
       "version_major": 2,
       "version_minor": 0
      },
      "text/plain": [
       "HBox(children=(IntProgress(value=0, max=202), HTML(value='')))"
      ]
     },
     "metadata": {},
     "output_type": "display_data"
    },
    {
     "name": "stdout",
     "output_type": "stream",
     "text": [
      "\n"
     ]
    },
    {
     "data": {
      "application/vnd.jupyter.widget-view+json": {
       "model_id": "19e81b4d19394c2eaa6e69d168b4bb73",
       "version_major": 2,
       "version_minor": 0
      },
      "text/plain": [
       "HBox(children=(IntProgress(value=0, max=202), HTML(value='')))"
      ]
     },
     "metadata": {},
     "output_type": "display_data"
    },
    {
     "name": "stdout",
     "output_type": "stream",
     "text": [
      "\n"
     ]
    },
    {
     "data": {
      "application/vnd.jupyter.widget-view+json": {
       "model_id": "b8187d3618a34a8db67aecfdbce109e8",
       "version_major": 2,
       "version_minor": 0
      },
      "text/plain": [
       "HBox(children=(IntProgress(value=0, max=202), HTML(value='')))"
      ]
     },
     "metadata": {},
     "output_type": "display_data"
    },
    {
     "name": "stdout",
     "output_type": "stream",
     "text": [
      "\n"
     ]
    },
    {
     "data": {
      "application/vnd.jupyter.widget-view+json": {
       "model_id": "9fab4ea7bd114f928c8c6e8513f16106",
       "version_major": 2,
       "version_minor": 0
      },
      "text/plain": [
       "HBox(children=(IntProgress(value=0, max=202), HTML(value='')))"
      ]
     },
     "metadata": {},
     "output_type": "display_data"
    },
    {
     "name": "stdout",
     "output_type": "stream",
     "text": [
      "\n"
     ]
    },
    {
     "data": {
      "application/vnd.jupyter.widget-view+json": {
       "model_id": "d69c15d8e23a4f97bd98d7309fda716c",
       "version_major": 2,
       "version_minor": 0
      },
      "text/plain": [
       "HBox(children=(IntProgress(value=0, max=202), HTML(value='')))"
      ]
     },
     "metadata": {},
     "output_type": "display_data"
    },
    {
     "name": "stdout",
     "output_type": "stream",
     "text": [
      "\n"
     ]
    },
    {
     "data": {
      "application/vnd.jupyter.widget-view+json": {
       "model_id": "36adb72360c64c21aa1762c2104ea379",
       "version_major": 2,
       "version_minor": 0
      },
      "text/plain": [
       "HBox(children=(IntProgress(value=0, max=202), HTML(value='')))"
      ]
     },
     "metadata": {},
     "output_type": "display_data"
    },
    {
     "name": "stdout",
     "output_type": "stream",
     "text": [
      "\n"
     ]
    },
    {
     "data": {
      "application/vnd.jupyter.widget-view+json": {
       "model_id": "dcd587e160c94c328d1fda4e87a7e866",
       "version_major": 2,
       "version_minor": 0
      },
      "text/plain": [
       "HBox(children=(IntProgress(value=0, max=202), HTML(value='')))"
      ]
     },
     "metadata": {},
     "output_type": "display_data"
    },
    {
     "name": "stdout",
     "output_type": "stream",
     "text": [
      "\n"
     ]
    },
    {
     "data": {
      "application/vnd.jupyter.widget-view+json": {
       "model_id": "f234e382a03a42fdacd036d029982fd7",
       "version_major": 2,
       "version_minor": 0
      },
      "text/plain": [
       "HBox(children=(IntProgress(value=0, max=202), HTML(value='')))"
      ]
     },
     "metadata": {},
     "output_type": "display_data"
    },
    {
     "name": "stdout",
     "output_type": "stream",
     "text": [
      "\n"
     ]
    },
    {
     "data": {
      "application/vnd.jupyter.widget-view+json": {
       "model_id": "43c7a0e2bfda4f72a29921bcf676aaba",
       "version_major": 2,
       "version_minor": 0
      },
      "text/plain": [
       "HBox(children=(IntProgress(value=0, max=202), HTML(value='')))"
      ]
     },
     "metadata": {},
     "output_type": "display_data"
    },
    {
     "name": "stdout",
     "output_type": "stream",
     "text": [
      "\n"
     ]
    },
    {
     "data": {
      "application/vnd.jupyter.widget-view+json": {
       "model_id": "d48af66b29924f58a044e483f91acd9e",
       "version_major": 2,
       "version_minor": 0
      },
      "text/plain": [
       "HBox(children=(IntProgress(value=0, max=202), HTML(value='')))"
      ]
     },
     "metadata": {},
     "output_type": "display_data"
    },
    {
     "name": "stdout",
     "output_type": "stream",
     "text": [
      "\n"
     ]
    },
    {
     "data": {
      "application/vnd.jupyter.widget-view+json": {
       "model_id": "fb0806e579644224a6e6105b8f81f7d4",
       "version_major": 2,
       "version_minor": 0
      },
      "text/plain": [
       "HBox(children=(IntProgress(value=0, max=202), HTML(value='')))"
      ]
     },
     "metadata": {},
     "output_type": "display_data"
    },
    {
     "name": "stdout",
     "output_type": "stream",
     "text": [
      "\n"
     ]
    },
    {
     "data": {
      "application/vnd.jupyter.widget-view+json": {
       "model_id": "00a61cf4bd0d4a938e462ede1b3b276e",
       "version_major": 2,
       "version_minor": 0
      },
      "text/plain": [
       "HBox(children=(IntProgress(value=0, max=202), HTML(value='')))"
      ]
     },
     "metadata": {},
     "output_type": "display_data"
    },
    {
     "name": "stdout",
     "output_type": "stream",
     "text": [
      "\n"
     ]
    },
    {
     "data": {
      "application/vnd.jupyter.widget-view+json": {
       "model_id": "06b542607f914af19ed1fa584c94686d",
       "version_major": 2,
       "version_minor": 0
      },
      "text/plain": [
       "HBox(children=(IntProgress(value=0, max=202), HTML(value='')))"
      ]
     },
     "metadata": {},
     "output_type": "display_data"
    },
    {
     "name": "stdout",
     "output_type": "stream",
     "text": [
      "\n"
     ]
    },
    {
     "data": {
      "application/vnd.jupyter.widget-view+json": {
       "model_id": "4e53a41d5054410b9e14efe359040a98",
       "version_major": 2,
       "version_minor": 0
      },
      "text/plain": [
       "HBox(children=(IntProgress(value=0, max=202), HTML(value='')))"
      ]
     },
     "metadata": {},
     "output_type": "display_data"
    },
    {
     "name": "stdout",
     "output_type": "stream",
     "text": [
      "\n"
     ]
    },
    {
     "data": {
      "application/vnd.jupyter.widget-view+json": {
       "model_id": "0b981102a64242d98298630f735b874c",
       "version_major": 2,
       "version_minor": 0
      },
      "text/plain": [
       "HBox(children=(IntProgress(value=0, max=202), HTML(value='')))"
      ]
     },
     "metadata": {},
     "output_type": "display_data"
    },
    {
     "name": "stdout",
     "output_type": "stream",
     "text": [
      "\n"
     ]
    },
    {
     "data": {
      "application/vnd.jupyter.widget-view+json": {
       "model_id": "49f883cae8824094979674853c33c0d5",
       "version_major": 2,
       "version_minor": 0
      },
      "text/plain": [
       "HBox(children=(IntProgress(value=0, max=202), HTML(value='')))"
      ]
     },
     "metadata": {},
     "output_type": "display_data"
    },
    {
     "name": "stdout",
     "output_type": "stream",
     "text": [
      "\n",
      "\n",
      "[13.33039473060384, 39.496896426787856, 46.10584858165835]\n",
      "14.095913182950287\n",
      "4.988036561398843\n",
      "4.288214862530954\n"
     ]
    },
    {
     "data": {
      "text/html": [
       "<div>\n",
       "<style scoped>\n",
       "    .dataframe tbody tr th:only-of-type {\n",
       "        vertical-align: middle;\n",
       "    }\n",
       "\n",
       "    .dataframe tbody tr th {\n",
       "        vertical-align: top;\n",
       "    }\n",
       "\n",
       "    .dataframe thead th {\n",
       "        text-align: right;\n",
       "    }\n",
       "</style>\n",
       "<table border=\"1\" class=\"dataframe\">\n",
       "  <thead>\n",
       "    <tr style=\"text-align: right;\">\n",
       "      <th></th>\n",
       "      <th>0</th>\n",
       "      <th>1</th>\n",
       "      <th>2</th>\n",
       "      <th>3</th>\n",
       "      <th>4</th>\n",
       "      <th>5</th>\n",
       "      <th>6</th>\n",
       "      <th>7</th>\n",
       "      <th>8</th>\n",
       "      <th>9</th>\n",
       "      <th>...</th>\n",
       "      <th>192</th>\n",
       "      <th>193</th>\n",
       "      <th>194</th>\n",
       "      <th>195</th>\n",
       "      <th>196</th>\n",
       "      <th>197</th>\n",
       "      <th>198</th>\n",
       "      <th>199</th>\n",
       "      <th>200</th>\n",
       "      <th>201</th>\n",
       "    </tr>\n",
       "  </thead>\n",
       "  <tbody>\n",
       "    <tr>\n",
       "      <td>0</td>\n",
       "      <td>1.000000</td>\n",
       "      <td>0.766493</td>\n",
       "      <td>0.726110</td>\n",
       "      <td>0.729530</td>\n",
       "      <td>0.809120</td>\n",
       "      <td>0.810548</td>\n",
       "      <td>0.731421</td>\n",
       "      <td>0.804230</td>\n",
       "      <td>0.772161</td>\n",
       "      <td>0.653065</td>\n",
       "      <td>...</td>\n",
       "      <td>0.765111</td>\n",
       "      <td>0.500602</td>\n",
       "      <td>0.722325</td>\n",
       "      <td>0.766549</td>\n",
       "      <td>0.783259</td>\n",
       "      <td>0.777315</td>\n",
       "      <td>0.708577</td>\n",
       "      <td>0.619650</td>\n",
       "      <td>0.692002</td>\n",
       "      <td>0.771157</td>\n",
       "    </tr>\n",
       "    <tr>\n",
       "      <td>1</td>\n",
       "      <td>0.766493</td>\n",
       "      <td>1.000000</td>\n",
       "      <td>0.744211</td>\n",
       "      <td>0.746743</td>\n",
       "      <td>0.749970</td>\n",
       "      <td>0.723654</td>\n",
       "      <td>0.700475</td>\n",
       "      <td>0.744724</td>\n",
       "      <td>0.735125</td>\n",
       "      <td>0.650792</td>\n",
       "      <td>...</td>\n",
       "      <td>0.759282</td>\n",
       "      <td>0.539781</td>\n",
       "      <td>0.695080</td>\n",
       "      <td>0.772405</td>\n",
       "      <td>0.786110</td>\n",
       "      <td>0.681275</td>\n",
       "      <td>0.708139</td>\n",
       "      <td>0.562159</td>\n",
       "      <td>0.632971</td>\n",
       "      <td>0.769977</td>\n",
       "    </tr>\n",
       "    <tr>\n",
       "      <td>2</td>\n",
       "      <td>0.726110</td>\n",
       "      <td>0.744211</td>\n",
       "      <td>1.000000</td>\n",
       "      <td>0.712862</td>\n",
       "      <td>0.671595</td>\n",
       "      <td>0.722411</td>\n",
       "      <td>0.706086</td>\n",
       "      <td>0.693021</td>\n",
       "      <td>0.672669</td>\n",
       "      <td>0.642464</td>\n",
       "      <td>...</td>\n",
       "      <td>0.723653</td>\n",
       "      <td>0.524299</td>\n",
       "      <td>0.677180</td>\n",
       "      <td>0.791063</td>\n",
       "      <td>0.691263</td>\n",
       "      <td>0.712571</td>\n",
       "      <td>0.655844</td>\n",
       "      <td>0.566088</td>\n",
       "      <td>0.608932</td>\n",
       "      <td>0.759244</td>\n",
       "    </tr>\n",
       "    <tr>\n",
       "      <td>3</td>\n",
       "      <td>0.729530</td>\n",
       "      <td>0.746743</td>\n",
       "      <td>0.712862</td>\n",
       "      <td>1.000000</td>\n",
       "      <td>0.792662</td>\n",
       "      <td>0.755655</td>\n",
       "      <td>0.769174</td>\n",
       "      <td>0.722006</td>\n",
       "      <td>0.751075</td>\n",
       "      <td>0.573642</td>\n",
       "      <td>...</td>\n",
       "      <td>0.745906</td>\n",
       "      <td>0.523422</td>\n",
       "      <td>0.708166</td>\n",
       "      <td>0.782690</td>\n",
       "      <td>0.736919</td>\n",
       "      <td>0.728755</td>\n",
       "      <td>0.713126</td>\n",
       "      <td>0.529304</td>\n",
       "      <td>0.624287</td>\n",
       "      <td>0.811579</td>\n",
       "    </tr>\n",
       "    <tr>\n",
       "      <td>4</td>\n",
       "      <td>0.809120</td>\n",
       "      <td>0.749970</td>\n",
       "      <td>0.671595</td>\n",
       "      <td>0.792662</td>\n",
       "      <td>1.000000</td>\n",
       "      <td>0.787560</td>\n",
       "      <td>0.704285</td>\n",
       "      <td>0.708965</td>\n",
       "      <td>0.762002</td>\n",
       "      <td>0.591976</td>\n",
       "      <td>...</td>\n",
       "      <td>0.725651</td>\n",
       "      <td>0.456091</td>\n",
       "      <td>0.697975</td>\n",
       "      <td>0.729975</td>\n",
       "      <td>0.780845</td>\n",
       "      <td>0.752265</td>\n",
       "      <td>0.666731</td>\n",
       "      <td>0.548614</td>\n",
       "      <td>0.611014</td>\n",
       "      <td>0.741026</td>\n",
       "    </tr>\n",
       "    <tr>\n",
       "      <td>...</td>\n",
       "      <td>...</td>\n",
       "      <td>...</td>\n",
       "      <td>...</td>\n",
       "      <td>...</td>\n",
       "      <td>...</td>\n",
       "      <td>...</td>\n",
       "      <td>...</td>\n",
       "      <td>...</td>\n",
       "      <td>...</td>\n",
       "      <td>...</td>\n",
       "      <td>...</td>\n",
       "      <td>...</td>\n",
       "      <td>...</td>\n",
       "      <td>...</td>\n",
       "      <td>...</td>\n",
       "      <td>...</td>\n",
       "      <td>...</td>\n",
       "      <td>...</td>\n",
       "      <td>...</td>\n",
       "      <td>...</td>\n",
       "      <td>...</td>\n",
       "    </tr>\n",
       "    <tr>\n",
       "      <td>197</td>\n",
       "      <td>0.777315</td>\n",
       "      <td>0.681275</td>\n",
       "      <td>0.712571</td>\n",
       "      <td>0.728755</td>\n",
       "      <td>0.752265</td>\n",
       "      <td>0.787490</td>\n",
       "      <td>0.706239</td>\n",
       "      <td>0.736530</td>\n",
       "      <td>0.765121</td>\n",
       "      <td>0.676501</td>\n",
       "      <td>...</td>\n",
       "      <td>0.731255</td>\n",
       "      <td>0.463619</td>\n",
       "      <td>0.694704</td>\n",
       "      <td>0.726647</td>\n",
       "      <td>0.751054</td>\n",
       "      <td>1.000000</td>\n",
       "      <td>0.692403</td>\n",
       "      <td>0.585006</td>\n",
       "      <td>0.652264</td>\n",
       "      <td>0.747463</td>\n",
       "    </tr>\n",
       "    <tr>\n",
       "      <td>198</td>\n",
       "      <td>0.708577</td>\n",
       "      <td>0.708139</td>\n",
       "      <td>0.655844</td>\n",
       "      <td>0.713126</td>\n",
       "      <td>0.666731</td>\n",
       "      <td>0.720472</td>\n",
       "      <td>0.660912</td>\n",
       "      <td>0.674291</td>\n",
       "      <td>0.739279</td>\n",
       "      <td>0.639001</td>\n",
       "      <td>...</td>\n",
       "      <td>0.731752</td>\n",
       "      <td>0.551490</td>\n",
       "      <td>0.755421</td>\n",
       "      <td>0.686652</td>\n",
       "      <td>0.727310</td>\n",
       "      <td>0.692403</td>\n",
       "      <td>1.000000</td>\n",
       "      <td>0.581297</td>\n",
       "      <td>0.679007</td>\n",
       "      <td>0.737221</td>\n",
       "    </tr>\n",
       "    <tr>\n",
       "      <td>199</td>\n",
       "      <td>0.619650</td>\n",
       "      <td>0.562159</td>\n",
       "      <td>0.566088</td>\n",
       "      <td>0.529304</td>\n",
       "      <td>0.548614</td>\n",
       "      <td>0.543307</td>\n",
       "      <td>0.516053</td>\n",
       "      <td>0.627337</td>\n",
       "      <td>0.586424</td>\n",
       "      <td>0.580281</td>\n",
       "      <td>...</td>\n",
       "      <td>0.603930</td>\n",
       "      <td>0.588820</td>\n",
       "      <td>0.688724</td>\n",
       "      <td>0.597568</td>\n",
       "      <td>0.555360</td>\n",
       "      <td>0.585006</td>\n",
       "      <td>0.581297</td>\n",
       "      <td>1.000000</td>\n",
       "      <td>0.693489</td>\n",
       "      <td>0.563006</td>\n",
       "    </tr>\n",
       "    <tr>\n",
       "      <td>200</td>\n",
       "      <td>0.692002</td>\n",
       "      <td>0.632971</td>\n",
       "      <td>0.608932</td>\n",
       "      <td>0.624287</td>\n",
       "      <td>0.611014</td>\n",
       "      <td>0.641167</td>\n",
       "      <td>0.564598</td>\n",
       "      <td>0.688253</td>\n",
       "      <td>0.678846</td>\n",
       "      <td>0.706017</td>\n",
       "      <td>...</td>\n",
       "      <td>0.642398</td>\n",
       "      <td>0.512784</td>\n",
       "      <td>0.621346</td>\n",
       "      <td>0.632796</td>\n",
       "      <td>0.656759</td>\n",
       "      <td>0.652264</td>\n",
       "      <td>0.679007</td>\n",
       "      <td>0.693489</td>\n",
       "      <td>1.000000</td>\n",
       "      <td>0.614385</td>\n",
       "    </tr>\n",
       "    <tr>\n",
       "      <td>201</td>\n",
       "      <td>0.771157</td>\n",
       "      <td>0.769977</td>\n",
       "      <td>0.759244</td>\n",
       "      <td>0.811579</td>\n",
       "      <td>0.741026</td>\n",
       "      <td>0.786938</td>\n",
       "      <td>0.770423</td>\n",
       "      <td>0.732225</td>\n",
       "      <td>0.681285</td>\n",
       "      <td>0.652755</td>\n",
       "      <td>...</td>\n",
       "      <td>0.768732</td>\n",
       "      <td>0.530400</td>\n",
       "      <td>0.741979</td>\n",
       "      <td>0.840266</td>\n",
       "      <td>0.757317</td>\n",
       "      <td>0.747463</td>\n",
       "      <td>0.737221</td>\n",
       "      <td>0.563006</td>\n",
       "      <td>0.614385</td>\n",
       "      <td>1.000000</td>\n",
       "    </tr>\n",
       "  </tbody>\n",
       "</table>\n",
       "<p>202 rows × 202 columns</p>\n",
       "</div>"
      ],
      "text/plain": [
       "          0         1         2         3         4         5         6    \\\n",
       "0    1.000000  0.766493  0.726110  0.729530  0.809120  0.810548  0.731421   \n",
       "1    0.766493  1.000000  0.744211  0.746743  0.749970  0.723654  0.700475   \n",
       "2    0.726110  0.744211  1.000000  0.712862  0.671595  0.722411  0.706086   \n",
       "3    0.729530  0.746743  0.712862  1.000000  0.792662  0.755655  0.769174   \n",
       "4    0.809120  0.749970  0.671595  0.792662  1.000000  0.787560  0.704285   \n",
       "..        ...       ...       ...       ...       ...       ...       ...   \n",
       "197  0.777315  0.681275  0.712571  0.728755  0.752265  0.787490  0.706239   \n",
       "198  0.708577  0.708139  0.655844  0.713126  0.666731  0.720472  0.660912   \n",
       "199  0.619650  0.562159  0.566088  0.529304  0.548614  0.543307  0.516053   \n",
       "200  0.692002  0.632971  0.608932  0.624287  0.611014  0.641167  0.564598   \n",
       "201  0.771157  0.769977  0.759244  0.811579  0.741026  0.786938  0.770423   \n",
       "\n",
       "          7         8         9    ...       192       193       194  \\\n",
       "0    0.804230  0.772161  0.653065  ...  0.765111  0.500602  0.722325   \n",
       "1    0.744724  0.735125  0.650792  ...  0.759282  0.539781  0.695080   \n",
       "2    0.693021  0.672669  0.642464  ...  0.723653  0.524299  0.677180   \n",
       "3    0.722006  0.751075  0.573642  ...  0.745906  0.523422  0.708166   \n",
       "4    0.708965  0.762002  0.591976  ...  0.725651  0.456091  0.697975   \n",
       "..        ...       ...       ...  ...       ...       ...       ...   \n",
       "197  0.736530  0.765121  0.676501  ...  0.731255  0.463619  0.694704   \n",
       "198  0.674291  0.739279  0.639001  ...  0.731752  0.551490  0.755421   \n",
       "199  0.627337  0.586424  0.580281  ...  0.603930  0.588820  0.688724   \n",
       "200  0.688253  0.678846  0.706017  ...  0.642398  0.512784  0.621346   \n",
       "201  0.732225  0.681285  0.652755  ...  0.768732  0.530400  0.741979   \n",
       "\n",
       "          195       196       197       198       199       200       201  \n",
       "0    0.766549  0.783259  0.777315  0.708577  0.619650  0.692002  0.771157  \n",
       "1    0.772405  0.786110  0.681275  0.708139  0.562159  0.632971  0.769977  \n",
       "2    0.791063  0.691263  0.712571  0.655844  0.566088  0.608932  0.759244  \n",
       "3    0.782690  0.736919  0.728755  0.713126  0.529304  0.624287  0.811579  \n",
       "4    0.729975  0.780845  0.752265  0.666731  0.548614  0.611014  0.741026  \n",
       "..        ...       ...       ...       ...       ...       ...       ...  \n",
       "197  0.726647  0.751054  1.000000  0.692403  0.585006  0.652264  0.747463  \n",
       "198  0.686652  0.727310  0.692403  1.000000  0.581297  0.679007  0.737221  \n",
       "199  0.597568  0.555360  0.585006  0.581297  1.000000  0.693489  0.563006  \n",
       "200  0.632796  0.656759  0.652264  0.679007  0.693489  1.000000  0.614385  \n",
       "201  0.840266  0.757317  0.747463  0.737221  0.563006  0.614385  1.000000  \n",
       "\n",
       "[202 rows x 202 columns]"
      ]
     },
     "execution_count": 3,
     "metadata": {},
     "output_type": "execute_result"
    }
   ],
   "source": [
    "testgood=pd.read_csv(\"./test_good_101_1.csv\")\n",
    "gwords=pd.read_csv(\"./test_good_101_1_words.csv\")\n",
    "\n",
    "x=[]\n",
    "t1x=[]\n",
    "t2x=[]\n",
    "t3x=[]\n",
    "df = pd.DataFrame(np.ones((202, 202)))\n",
    "for l in tqdm(range(len(gwords))):\n",
    "    f1=0\n",
    "    f2=0\n",
    "    f3=0\n",
    "    for m in tqdm(range(len(gwords))):\n",
    "        if(m!=l):\n",
    "            df.iloc[l][m]=nlp(gwords.loc[l,'fullnopunc']).similarity(nlp(gwords.loc[m,'fullnopunc']))\n",
    "            if(0.5>df.iloc[l][m]):\n",
    "                f1=f1+1\n",
    "                f2=f2+1\n",
    "                f3=f3+1\n",
    "            elif(0.6>df.iloc[l][m]):\n",
    "                f2=f2+1\n",
    "                f3=f3+1\n",
    "            elif(0.7>df.iloc[l][m]):\n",
    "                f3=f3+1\n",
    "    t1x.append(f1)\n",
    "    t2x.append(f2)\n",
    "    t3x.append(f3)\n",
    "x.append(pd.Series(t1x).std())\n",
    "x.append(pd.Series(t2x).std())\n",
    "x.append(pd.Series(t3x).std())\n",
    "print(x)\n",
    "print(len(gwords)/(x[0]+1))\n",
    "print(len(gwords)/(x[1]+1))\n",
    "print(len(gwords)/(x[2]+1))\n",
    "df\n",
    "\n",
    "\n",
    "\n",
    "\n",
    "\n"
   ]
  },
  {
   "cell_type": "code",
   "execution_count": 4,
   "metadata": {},
   "outputs": [
    {
     "name": "stdout",
     "output_type": "stream",
     "text": [
      "     0         1         2         3         4         5         6    \\\n",
      "0    1.0  0.841631  0.811271  0.811088  0.810548  0.809120  0.808563   \n",
      "1    1.0  0.847376  0.840724  0.839129  0.819429  0.816006  0.813445   \n",
      "2    1.0  0.864076  0.806754  0.802106  0.791063  0.786970  0.774636   \n",
      "3    1.0  0.877176  0.873892  0.862039  0.854112  0.853558  0.846699   \n",
      "4    1.0  0.871560  0.865969  0.852889  0.839335  0.838351  0.828037   \n",
      "..   ...       ...       ...       ...       ...       ...       ...   \n",
      "197  1.0  0.871582  0.860405  0.821593  0.816187  0.812881  0.797601   \n",
      "198  1.0  0.799408  0.790968  0.789190  0.788508  0.779902  0.776647   \n",
      "199  1.0  0.794545  0.779617  0.743071  0.736219  0.716704  0.706165   \n",
      "200  1.0  0.800950  0.787911  0.787531  0.763701  0.761909  0.752492   \n",
      "201  1.0  0.893854  0.840266  0.837109  0.837026  0.830127  0.826560   \n",
      "\n",
      "          7         8         9    ...       192       193       194  \\\n",
      "0    0.805794  0.805288  0.805226  ...  0.596282  0.592059  0.576282   \n",
      "1    0.812887  0.801587  0.799002  ...  0.597197  0.593528  0.584127   \n",
      "2    0.773971  0.769101  0.766833  ...  0.559416  0.540193  0.539152   \n",
      "3    0.846632  0.845893  0.845832  ...  0.567660  0.556622  0.548198   \n",
      "4    0.828037  0.826087  0.825472  ...  0.541107  0.534059  0.532454   \n",
      "..        ...       ...       ...  ...       ...       ...       ...   \n",
      "197  0.796902  0.796806  0.791968  ...  0.563938  0.557176  0.530434   \n",
      "198  0.774689  0.774375  0.773484  ...  0.581297  0.577485  0.553347   \n",
      "199  0.703525  0.703034  0.695476  ...  0.490603  0.490428  0.488668   \n",
      "200  0.750332  0.740953  0.723289  ...  0.542332  0.540287  0.538369   \n",
      "201  0.822252  0.818700  0.813588  ...  0.582212  0.575690  0.563006   \n",
      "\n",
      "          195       196       197       198       199       200       201  \n",
      "0    0.550084  0.549631  0.542180  0.532076  0.527108  0.500602  0.493235  \n",
      "1    0.562159  0.550845  0.539781  0.522253  0.515248  0.513170  0.511473  \n",
      "2    0.534791  0.532122  0.527230  0.524299  0.516759  0.504084  0.487994  \n",
      "3    0.532187  0.529304  0.523422  0.511758  0.490020  0.435357  0.425643  \n",
      "4    0.521594  0.507390  0.502548  0.502535  0.499220  0.456091  0.440800  \n",
      "..        ...       ...       ...       ...       ...       ...       ...  \n",
      "197  0.519342  0.508569  0.504923  0.499520  0.490842  0.481868  0.463619  \n",
      "198  0.551490  0.542154  0.528031  0.521397  0.515040  0.507232  0.504621  \n",
      "199  0.480737  0.479927  0.474848  0.472684  0.469016  0.467000  0.461635  \n",
      "200  0.538358  0.538308  0.524806  0.522699  0.518791  0.516276  0.512784  \n",
      "201  0.562564  0.537200  0.530400  0.494642  0.493518  0.488038  0.467530  \n",
      "\n",
      "[202 rows x 202 columns]\n"
     ]
    },
    {
     "data": {
      "application/vnd.jupyter.widget-view+json": {
       "model_id": "b1789a13ad2f4a78b3a3979070103908",
       "version_major": 2,
       "version_minor": 0
      },
      "text/plain": [
       "HBox(children=(IntProgress(value=0, max=202), HTML(value='')))"
      ]
     },
     "metadata": {},
     "output_type": "display_data"
    },
    {
     "name": "stdout",
     "output_type": "stream",
     "text": [
      "\n",
      "202.0\n"
     ]
    },
    {
     "data": {
      "application/vnd.jupyter.widget-view+json": {
       "model_id": "7640842f8b624671a79f6975cdfe88ae",
       "version_major": 2,
       "version_minor": 0
      },
      "text/plain": [
       "HBox(children=(IntProgress(value=0, max=202), HTML(value='')))"
      ]
     },
     "metadata": {},
     "output_type": "display_data"
    },
    {
     "name": "stdout",
     "output_type": "stream",
     "text": [
      "\n",
      "202.0\n"
     ]
    },
    {
     "data": {
      "application/vnd.jupyter.widget-view+json": {
       "model_id": "438d76e29b23494e8a79364368993d62",
       "version_major": 2,
       "version_minor": 0
      },
      "text/plain": [
       "HBox(children=(IntProgress(value=0, max=202), HTML(value='')))"
      ]
     },
     "metadata": {},
     "output_type": "display_data"
    },
    {
     "name": "stdout",
     "output_type": "stream",
     "text": [
      "\n",
      "199.90659285817534\n"
     ]
    }
   ],
   "source": [
    "t2xx=df.values\n",
    "t2xx.sort(axis=1)\n",
    "t2xx = t2xx[:, ::-1]\n",
    "dfsort=pd.DataFrame(t2xx, df.index, df.columns)\n",
    "print(dfsort)\n",
    "\n",
    "t2xx=[]\n",
    "a=math.floor(0.25*len(dfsort))\n",
    "for i in tqdm(range(len(dfsort))):\n",
    "    for j in (range((a))):\n",
    "        if(dfsort.iloc[i][j]<0.5):            \n",
    "            t2xx.append(abs(dfsort.iloc[i][j]-0.5))\n",
    "print(len(dfsort)/(pd.Series(t2xx).sum()+1))\n",
    "\n",
    "t2x=[]\n",
    "a=math.floor(0.33*len(dfsort))\n",
    "for i in tqdm(range(len(dfsort))):\n",
    "    for j in (range((a))):\n",
    "        if(dfsort.iloc[i][j]<0.5):            \n",
    "            t2xx.append(abs(dfsort.iloc[i][j]-0.5))\n",
    "print(len(dfsort)/(pd.Series(t2xx).sum()+1))\n",
    "\n",
    "t2xx=[]\n",
    "a=math.floor(0.5*len(dfsort))\n",
    "for i in tqdm(range(len(dfsort))):\n",
    "    for j in (range((a))):\n",
    "        if(dfsort.iloc[i][j]<0.5):            \n",
    "            t2xx.append(abs(dfsort.iloc[i][j]-0.5))\n",
    "print(len(dfsort)/(pd.Series(t2xx).sum()+1))\n",
    "\n",
    "\n",
    "\n"
   ]
  },
  {
   "cell_type": "code",
   "execution_count": null,
   "metadata": {},
   "outputs": [],
   "source": []
  }
 ],
 "metadata": {
  "kernelspec": {
   "display_name": "Python 3",
   "language": "python",
   "name": "python3"
  },
  "language_info": {
   "codemirror_mode": {
    "name": "ipython",
    "version": 3
   },
   "file_extension": ".py",
   "mimetype": "text/x-python",
   "name": "python",
   "nbconvert_exporter": "python",
   "pygments_lexer": "ipython3",
   "version": "3.7.4"
  }
 },
 "nbformat": 4,
 "nbformat_minor": 2
}
